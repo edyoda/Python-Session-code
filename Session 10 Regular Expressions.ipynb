{
 "cells": [
  {
   "cell_type": "code",
   "execution_count": null,
   "metadata": {},
   "outputs": [],
   "source": [
    "Pattern validation \n",
    "Pattern extraction "
   ]
  },
  {
   "cell_type": "code",
   "execution_count": 1,
   "metadata": {},
   "outputs": [],
   "source": [
    "import re"
   ]
  },
  {
   "cell_type": "code",
   "execution_count": 2,
   "metadata": {},
   "outputs": [
    {
     "name": "stdout",
     "output_type": "stream",
     "text": [
      "['ab', 'ab', 'ab', 'ab']\n"
     ]
    }
   ],
   "source": [
    "s = \"abdgjaabahdgaabab\"\n",
    "r = re.compile(\"ab\")\n",
    "l = re.findall(r,s)\n",
    "print(l)"
   ]
  },
  {
   "cell_type": "code",
   "execution_count": null,
   "metadata": {},
   "outputs": [],
   "source": [
    "Metacharacters :\n",
    "    1 . => match with all the char \n",
    "    2 [a-z] [A-Z] [a-zA-Z]=> char class a or or c or d......or m\n",
    "    3 [0-9] => digit class [a-zA-Z0-9]\n",
    "    4 + one or more\n",
    "    5 * zero or more \n",
    "    6 ^ start of the string\n",
    "    7 $ end of the string \n",
    "    8 [a-z]{2,5}\n",
    "    9 ?"
   ]
  },
  {
   "cell_type": "code",
   "execution_count": 28,
   "metadata": {},
   "outputs": [
    {
     "name": "stdout",
     "output_type": "stream",
     "text": [
      "['abcd1234']\n"
     ]
    }
   ],
   "source": [
    "s = \"abcd1234\"\n",
    "r = re.compile(\"^[a-z]{2,5}[0-9]+$\")\n",
    "l = re.findall(r,s)\n",
    "print(l)"
   ]
  },
  {
   "cell_type": "code",
   "execution_count": null,
   "metadata": {},
   "outputs": [],
   "source": [
    "s =\"ABCDE1234A\"\n",
    "5 char \n",
    "4 digits \n",
    "1 char "
   ]
  },
  {
   "cell_type": "code",
   "execution_count": 33,
   "metadata": {},
   "outputs": [
    {
     "name": "stdout",
     "output_type": "stream",
     "text": [
      "[]\n"
     ]
    }
   ],
   "source": [
    "s =\"ABCDE1234A\"\n",
    "r = re.compile(\"^[A-Z]{5}[0-9]{4}[A-Z]$\")\n",
    "l = re.findall(r,s)\n",
    "print(l)"
   ]
  },
  {
   "cell_type": "code",
   "execution_count": 35,
   "metadata": {},
   "outputs": [
    {
     "name": "stdout",
     "output_type": "stream",
     "text": [
      "['9123456789']\n"
     ]
    }
   ],
   "source": [
    "s = \"9123456789\"\n",
    "r = re.compile(\"^[6-9][0-9]{9}$\")\n",
    "l = re.findall(r,s)\n",
    "print(l)"
   ]
  },
  {
   "cell_type": "code",
   "execution_count": 54,
   "metadata": {},
   "outputs": [
    {
     "name": "stdout",
     "output_type": "stream",
     "text": [
      "<_sre.SRE_Match object; span=(0, 13), match='+919123456789'>\n",
      "9123456789\n"
     ]
    }
   ],
   "source": [
    "s = \"+919123456789\"\n",
    "r = re.compile(\"^(\\+91)?([6-9][0-9]{9})$\")\n",
    "# l = re.findall(r,s)\n",
    "# print(l)\n",
    "\n",
    "m = re.search(r,s)\n",
    "print(m)\n",
    "if m:\n",
    "    print(m.group(2))\n",
    "else:\n",
    "    print(\"Pattrn not found\")\n"
   ]
  },
  {
   "cell_type": "code",
   "execution_count": 60,
   "metadata": {},
   "outputs": [
    {
     "name": "stdout",
     "output_type": "stream",
     "text": [
      "2018\n"
     ]
    }
   ],
   "source": [
    "s = \"12-32-2018\"\n",
    "#DD-MM-YYYY\n",
    "r = re.compile(\"^([0-9]{1,2})-([0-9]{1,2})-([0-9]{4})\")\n",
    "m = re.search(r,s)\n",
    "if m:\n",
    "    print(m.group(3))\n",
    "else:\n",
    "    print(\"Pattern not found\")"
   ]
  },
  {
   "cell_type": "code",
   "execution_count": 64,
   "metadata": {},
   "outputs": [
    {
     "name": "stdout",
     "output_type": "stream",
     "text": [
      "32\n"
     ]
    }
   ],
   "source": [
    "s = \"12-32-2018\"\n",
    "#DD-MM-YYYY\n",
    "r = re.compile(\"^(?P<day>[0-9]{1,2})-(?P<month>[0-9]{1,2})-(?P<year>[0-9]{4})\")\n",
    "m = re.search(r,s)\n",
    "if m:\n",
    "    print(m.group(\"month\"))\n",
    "else:\n",
    "    print(\"Pattern not found\")"
   ]
  },
  {
   "cell_type": "code",
   "execution_count": 69,
   "metadata": {},
   "outputs": [
    {
     "name": "stdout",
     "output_type": "stream",
     "text": [
      "<_sre.SRE_Match object; span=(0, 13), match='+919123456789'>\n"
     ]
    },
    {
     "ename": "IndexError",
     "evalue": "no such group",
     "output_type": "error",
     "traceback": [
      "\u001b[1;31m---------------------------------------------------------------------------\u001b[0m",
      "\u001b[1;31mIndexError\u001b[0m                                Traceback (most recent call last)",
      "\u001b[1;32m<ipython-input-69-92a6e20723e1>\u001b[0m in \u001b[0;36m<module>\u001b[1;34m()\u001b[0m\n\u001b[0;32m      7\u001b[0m \u001b[0mprint\u001b[0m\u001b[1;33m(\u001b[0m\u001b[0mm\u001b[0m\u001b[1;33m)\u001b[0m\u001b[1;33m\u001b[0m\u001b[0m\n\u001b[0;32m      8\u001b[0m \u001b[1;32mif\u001b[0m \u001b[0mm\u001b[0m\u001b[1;33m:\u001b[0m\u001b[1;33m\u001b[0m\u001b[0m\n\u001b[1;32m----> 9\u001b[1;33m     \u001b[0mprint\u001b[0m\u001b[1;33m(\u001b[0m\u001b[0mm\u001b[0m\u001b[1;33m.\u001b[0m\u001b[0mgroup\u001b[0m\u001b[1;33m(\u001b[0m\u001b[1;36m2\u001b[0m\u001b[1;33m)\u001b[0m\u001b[1;33m)\u001b[0m\u001b[1;33m\u001b[0m\u001b[0m\n\u001b[0m\u001b[0;32m     10\u001b[0m \u001b[1;32melse\u001b[0m\u001b[1;33m:\u001b[0m\u001b[1;33m\u001b[0m\u001b[0m\n\u001b[0;32m     11\u001b[0m     \u001b[0mprint\u001b[0m\u001b[1;33m(\u001b[0m\u001b[1;34m\"Pattrn not found\"\u001b[0m\u001b[1;33m)\u001b[0m\u001b[1;33m\u001b[0m\u001b[0m\n",
      "\u001b[1;31mIndexError\u001b[0m: no such group"
     ]
    }
   ],
   "source": [
    "s = \"+919123456789\"\n",
    "r = re.compile(\"^(?:\\+91)?([6-9][0-9]{9})$\")\n",
    "# l = re.findall(r,s)\n",
    "# print(l)\n",
    "\n",
    "m = re.search(r,s)\n",
    "print(m)\n",
    "if m:\n",
    "    print(m.group(2))\n",
    "else:\n",
    "    print(\"Pattrn not found\")"
   ]
  },
  {
   "cell_type": "code",
   "execution_count": 72,
   "metadata": {},
   "outputs": [
    {
     "name": "stdout",
     "output_type": "stream",
     "text": [
      "Valid Password\n"
     ]
    }
   ],
   "source": [
    "# 8 - 16\n",
    "# all digits not allowed \n",
    "# @ _\n",
    "s = \"abcd789777\"\n",
    "\n",
    "r = re.compile(\"^[a-zA-Z0-9@_]{8,16}$\")\n",
    "r1 = re.compile(\"^[0-9]+$\")\n",
    "if re.search(r,s):\n",
    "    if re.search(r1,s):\n",
    "        print(\"Password contains all the digits.Invalid password \")\n",
    "    else:\n",
    "        print(\"Valid Password\")\n",
    "else:\n",
    "    print(\"InvLaid Password\")"
   ]
  },
  {
   "cell_type": "code",
   "execution_count": null,
   "metadata": {},
   "outputs": [],
   "source": [
    "[a-zA-Z0-9] => \\w => alpha numeric\n",
    "             \\W"
   ]
  }
 ],
 "metadata": {
  "kernelspec": {
   "display_name": "Python 3",
   "language": "python",
   "name": "python3"
  },
  "language_info": {
   "codemirror_mode": {
    "name": "ipython",
    "version": 3
   },
   "file_extension": ".py",
   "mimetype": "text/x-python",
   "name": "python",
   "nbconvert_exporter": "python",
   "pygments_lexer": "ipython3",
   "version": "3.6.5"
  }
 },
 "nbformat": 4,
 "nbformat_minor": 2
}
