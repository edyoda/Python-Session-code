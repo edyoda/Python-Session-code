{
 "cells": [
  {
   "cell_type": "code",
   "execution_count": null,
   "metadata": {},
   "outputs": [],
   "source": [
    "JSON \n",
    "JSON objects           python dict\n",
    "array []               list \n",
    "numbers                int,float \n",
    "                       tuple \n",
    "                       set\n",
    "str \" \"                '' , \" \" , \"\"\" \"\"\""
   ]
  },
  {
   "cell_type": "code",
   "execution_count": 1,
   "metadata": {},
   "outputs": [],
   "source": [
    "import json"
   ]
  },
  {
   "cell_type": "code",
   "execution_count": 22,
   "metadata": {
    "scrolled": true
   },
   "outputs": [],
   "source": [
    "fp = open(\"test1.json\",\"r\")\n",
    "str_content = fp.read()\n",
    "# print(str_content)\n",
    "fp.close()\n",
    "\n",
    "d = json.loads(str_content)\n",
    "# print(d['glossary']['title'])\n",
    "\n",
    "d['glossary']['title'] = \"New title for JSON File\"\n",
    "\n",
    "# print(d['glossary']['GlossDiv']['GlossList']['GlossEntry']['ID'])\n",
    "d['glossary']['GlossDiv']['GlossList']['GlossEntry']['ID'] = (\"HTML\",\"SGML\")\n",
    "\n",
    "d['glossaryId'] = 101 \n",
    "# print(d)\n",
    "\n",
    "json_content = json.dumps(d,indent = 4)\n",
    "# print(json_content)\n",
    "\n",
    "# help(json.dumps)\n",
    "\n",
    "fp = open(\"test2.json\",\"w\")\n",
    "fp.write(json_content)\n",
    "fp.close()"
   ]
  },
  {
   "cell_type": "code",
   "execution_count": null,
   "metadata": {},
   "outputs": [],
   "source": [
    "pip install xmltodict"
   ]
  },
  {
   "cell_type": "code",
   "execution_count": null,
   "metadata": {},
   "outputs": [],
   "source": [
    "<note>\n",
    "    <from>ABC</from>\n",
    "    <to>PQR</to>\n",
    "    <message>Session at 8 AM </message>\n",
    "</note>"
   ]
  },
  {
   "cell_type": "code",
   "execution_count": 23,
   "metadata": {},
   "outputs": [],
   "source": [
    "import xmltodict "
   ]
  },
  {
   "cell_type": "code",
   "execution_count": 33,
   "metadata": {},
   "outputs": [
    {
     "name": "stdout",
     "output_type": "stream",
     "text": [
      "SGML\n",
      "<?xml version=\"1.0\" encoding=\"utf-8\"?>\n",
      "<glossary><title>New title value for XML</title><GlossDiv><title>S</title><GlossList><GlossEntry ID=\"HTML\" SortAs=\"SGML\"><GlossTerm>Standard Generalized Markup Language</GlossTerm><Acronym>SGML</Acronym><Abbrev>ISO 8879:1986</Abbrev><GlossDef><para>A meta-markup language, used to create markup\n",
      "languages such as DocBook.</para><GlossSeeAlso OtherTerm=\"GML\"></GlossSeeAlso><GlossSeeAlso OtherTerm=\"XML\"></GlossSeeAlso></GlossDef><GlossSee OtherTerm=\"markup\"></GlossSee></GlossEntry></GlossList></GlossDiv></glossary>\n"
     ]
    }
   ],
   "source": [
    "fp = open(\"test1.xml\",\"r\")\n",
    "xml_content = fp.read()\n",
    "# print(xml_content)\n",
    "fp.close()\n",
    "\n",
    "d = xmltodict.parse(xml_content)\n",
    "# print(d['glossary']['title'])\n",
    "d['glossary']['title'] =\"New title value for XML\"\n",
    "print(d['glossary']['GlossDiv']['GlossList']['GlossEntry']['@ID'])\n",
    "d['glossary']['GlossDiv']['GlossList']['GlossEntry']['@ID'] = \"HTML\"\n",
    "\n",
    "xml_new = xmltodict.unparse(d)\n",
    "print(xml_new)\n",
    "\n",
    "fp = open(\"rest2.xml\",\"w\")\n",
    "fp.write(xml_new)\n",
    "fp.close()"
   ]
  },
  {
   "cell_type": "code",
   "execution_count": null,
   "metadata": {},
   "outputs": [],
   "source": [
    "JSON\n",
    "\n",
    "loads => convert json => python dict \n",
    "dumps => python dict to json str\n",
    "\n",
    "xmltodict \n",
    "\n",
    "parse => xml to dict \n",
    "unparse dict to xml "
   ]
  },
  {
   "cell_type": "code",
   "execution_count": 37,
   "metadata": {},
   "outputs": [],
   "source": [
    "import csv "
   ]
  },
  {
   "cell_type": "code",
   "execution_count": null,
   "metadata": {},
   "outputs": [],
   "source": [
    "reader \n",
    "DictReader \n",
    "writer \n",
    "DictWriter "
   ]
  },
  {
   "cell_type": "code",
   "execution_count": 36,
   "metadata": {},
   "outputs": [
    {
     "ename": "SyntaxError",
     "evalue": "unexpected EOF while parsing (<ipython-input-36-5c17a8333069>, line 3)",
     "output_type": "error",
     "traceback": [
      "\u001b[1;36m  File \u001b[1;32m\"<ipython-input-36-5c17a8333069>\"\u001b[1;36m, line \u001b[1;32m3\u001b[0m\n\u001b[1;33m    with open(\"filename.txt\",\"r\") as fp:\u001b[0m\n\u001b[1;37m                                        ^\u001b[0m\n\u001b[1;31mSyntaxError\u001b[0m\u001b[1;31m:\u001b[0m unexpected EOF while parsing\n"
     ]
    }
   ],
   "source": [
    "fp = open(\"filename.txt\",\"r\")\n",
    "\n",
    "with open(\"filename.txt\",\"r\") as fp:"
   ]
  },
  {
   "cell_type": "code",
   "execution_count": 42,
   "metadata": {},
   "outputs": [
    {
     "name": "stdout",
     "output_type": "stream",
     "text": [
      "<_csv.reader object at 0x000002A0A239D458>\n",
      "['Id', 'Name', 'Email ', 'Contact']\n",
      "['101', 'ABC', 'abc@gmail.com', '91234467894']\n",
      "['102', 'PQR', 'pqr@gmail.cm', '91234467894']\n",
      "['103', 'RST', 'rst@gmail.com', '91234467894']\n",
      "['104', 'XYZ', 'xyz@gmail.com', '91234467894']\n"
     ]
    }
   ],
   "source": [
    "with open(\"test.csv\",\"r\") as fp:\n",
    "    reader = csv.reader(fp)\n",
    "    print(reader)\n",
    "    print(next(reader))\n",
    "    print(next(reader))\n",
    "    \n",
    "    for row in reader:\n",
    "        print(row)"
   ]
  },
  {
   "cell_type": "code",
   "execution_count": 44,
   "metadata": {},
   "outputs": [
    {
     "name": "stdout",
     "output_type": "stream",
     "text": [
      "OrderedDict([('Id', '101'), ('Name', 'ABC'), ('Email ', 'abc@gmail.com'), ('Contact', '91234467894')])\n",
      "OrderedDict([('Id', '102'), ('Name', 'PQR'), ('Email ', 'pqr@gmail.cm'), ('Contact', '91234467894')])\n",
      "OrderedDict([('Id', '103'), ('Name', 'RST'), ('Email ', 'rst@gmail.com'), ('Contact', '91234467894')])\n",
      "OrderedDict([('Id', '104'), ('Name', 'XYZ'), ('Email ', 'xyz@gmail.com'), ('Contact', '91234467894')])\n"
     ]
    }
   ],
   "source": [
    "with open(\"test.csv\",\"r\") as fp:\n",
    "    reader = csv.DictReader(fp)\n",
    "    print(next(reader))\n",
    "    \n",
    "    for row in reader:\n",
    "        print(row)\n",
    "    "
   ]
  },
  {
   "cell_type": "code",
   "execution_count": 48,
   "metadata": {},
   "outputs": [],
   "source": [
    "with open(\"test.csv\",\"a+\") as fp:\n",
    "    writer = csv.writer(fp,lineterminator=\"\\n\")\n",
    "    writer.writerows([[\"106\",\"WER\",\"WER@gmail.com\",\"81255467898\"],[\"107\",\"POI\",\"POI@gmail.com\",\"81255467898\"]])\n",
    "    \n",
    "fp.close()"
   ]
  },
  {
   "cell_type": "code",
   "execution_count": 51,
   "metadata": {},
   "outputs": [],
   "source": [
    "with open(\"test.csv\",\"a+\") as fp:\n",
    "    writer = csv.DictWriter(fp,fieldnames=['Id','Name','Email','Contact'],lineterminator=\"\\n\")\n",
    "    writer.writerow({'Id':109,\"Name\":\"MNB\",\"Contact\":\"98745612346\"})\n",
    "fp.close()"
   ]
  }
 ],
 "metadata": {
  "kernelspec": {
   "display_name": "Python 3",
   "language": "python",
   "name": "python3"
  },
  "language_info": {
   "codemirror_mode": {
    "name": "ipython",
    "version": 3
   },
   "file_extension": ".py",
   "mimetype": "text/x-python",
   "name": "python",
   "nbconvert_exporter": "python",
   "pygments_lexer": "ipython3",
   "version": "3.6.5"
  }
 },
 "nbformat": 4,
 "nbformat_minor": 2
}
