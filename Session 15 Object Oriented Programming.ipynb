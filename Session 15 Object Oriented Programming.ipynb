{
 "cells": [
  {
   "cell_type": "code",
   "execution_count": null,
   "metadata": {},
   "outputs": [],
   "source": [
    "Class \n",
    "Object "
   ]
  },
  {
   "cell_type": "code",
   "execution_count": null,
   "metadata": {},
   "outputs": [],
   "source": [
    "Paytm \n",
    "Class :\n",
    "    data member => variables \n",
    "    methods \n",
    "    \n",
    "Paytm:\n",
    "    number \n",
    "    email id \n",
    "    kYC \n",
    "    \n",
    "    recharge \n",
    "    add money to wallet \n",
    "    send money \n",
    "    book tickets \n",
    "    \n",
    "user1 =objet \n",
    "\n",
    "    \n",
    "    "
   ]
  },
  {
   "cell_type": "code",
   "execution_count": null,
   "metadata": {},
   "outputs": [],
   "source": [
    "Emp:\n",
    "    id \n",
    "    name \n",
    "    email \n",
    "    salaray \n",
    "    \n",
    "    \n",
    "    get_details\n",
    "    update_details\n",
    "    incr_salary\n",
    "    "
   ]
  },
  {
   "cell_type": "code",
   "execution_count": null,
   "metadata": {},
   "outputs": [],
   "source": [
    "Instance variable : every object will have its own set of variables"
   ]
  },
  {
   "cell_type": "code",
   "execution_count": 39,
   "metadata": {},
   "outputs": [
    {
     "name": "stdout",
     "output_type": "stream",
     "text": [
      "<__main__.Emp object at 0x000001994F4DF278>\n",
      "<__main__.Emp object at 0x000001994F4DF518>\n",
      "<__main__.Emp object at 0x000001994F4DF278>\n",
      "{'emp_id': '101', 'emp_name': 'ABC', 'email': 'abc@gmail.com', 'emp_sal': 45000}\n"
     ]
    }
   ],
   "source": [
    "class Emp:\n",
    "    def __init__(self,id,name,email,sal):\n",
    "        self.emp_id = id\n",
    "        self.emp_name = name \n",
    "        self.email = email\n",
    "        self.emp_sal = sal\n",
    "    \n",
    "    def set_dept(self,dept_name):\n",
    "        self.emp_dept = dept_name\n",
    "        \n",
    "    def incr_sal(self,per = 30):\n",
    "        self.emp_sal = self.emp_sal + (self.emp_sal * per) / 100\n",
    "        return self.emp_sal\n",
    "    \n",
    "    def get_details(self):\n",
    "        return self.emp_id,self.emp_name,self.emp_sal,self.emp_dept,self.email\n",
    "\n",
    "emp1 = Emp(\"101\",\"ABC\",\"abc@gmail.com\",45000)\n",
    "# Emp(emp1,\"101\",\"ABC\",\"abc@gmail.com\",\"45000\")\n",
    "print(emp1)\n",
    "\n",
    "emp2 = Emp(\"102\",\"PQR\",\"pqr@gmail.com\",55000)\n",
    "print(emp2)\n",
    "\n",
    "emp3 = Emp(\"103\",\"XYZ\",\"xyz@gmail.com\",65000)\n",
    "print(emp1)\n",
    "print(emp1.__dict__)\n",
    "\n",
    "\n"
   ]
  },
  {
   "cell_type": "code",
   "execution_count": 23,
   "metadata": {},
   "outputs": [
    {
     "name": "stdout",
     "output_type": "stream",
     "text": [
      "101 ABC abc@gmail.com 45000\n"
     ]
    }
   ],
   "source": [
    "print(emp1.emp_id,emp1.emp_name,emp1.email,emp1.emp_sal)"
   ]
  },
  {
   "cell_type": "code",
   "execution_count": 28,
   "metadata": {},
   "outputs": [],
   "source": [
    "emp1.set_dept(\"HR\")\n",
    "emp2.set_dept(\"Admin\")\n",
    "\n",
    "emp3.set_dept(\"Admin\")"
   ]
  },
  {
   "cell_type": "code",
   "execution_count": 14,
   "metadata": {},
   "outputs": [
    {
     "name": "stdout",
     "output_type": "stream",
     "text": [
      "Admin\n"
     ]
    }
   ],
   "source": [
    "print(emp3.emp_dept)"
   ]
  },
  {
   "cell_type": "code",
   "execution_count": 25,
   "metadata": {},
   "outputs": [
    {
     "name": "stdout",
     "output_type": "stream",
     "text": [
      "63000.0\n",
      "71500.0\n"
     ]
    }
   ],
   "source": [
    "print(emp1.incr_sal(40))\n",
    "print(emp2.incr_sal())\n"
   ]
  },
  {
   "cell_type": "code",
   "execution_count": 29,
   "metadata": {},
   "outputs": [
    {
     "name": "stdout",
     "output_type": "stream",
     "text": [
      "58500.0\n",
      "71500.0\n",
      "84500.0\n",
      "('101', 'ABC', 58500.0, 'HR', 'abc@gmail.com')\n",
      "('102', 'PQR', 71500.0, 'Admin', 'pqr@gmail.com')\n",
      "('103', 'XYZ', 84500.0, 'Admin', 'xyz@gmail.com')\n"
     ]
    }
   ],
   "source": [
    "emps =[emp1,emp2,emp3]\n",
    "for emp in emps:\n",
    "    print(emp.incr_sal())\n",
    "    \n",
    "for emp in emps:\n",
    "    print(emp.get_details())"
   ]
  },
  {
   "cell_type": "code",
   "execution_count": 19,
   "metadata": {},
   "outputs": [],
   "source": [
    "if 10 == 10:\n",
    "    pass\n",
    "else:\n",
    "    print(\"Hi\")`"
   ]
  },
  {
   "cell_type": "code",
   "execution_count": null,
   "metadata": {},
   "outputs": [],
   "source": [
    "class Emp:\n",
    "    pass\n",
    "\n",
    "emp1 = Emp()"
   ]
  },
  {
   "cell_type": "code",
   "execution_count": null,
   "metadata": {},
   "outputs": [],
   "source": [
    "Model => class emp dept \n",
    "View \n",
    "Temapltes "
   ]
  },
  {
   "cell_type": "code",
   "execution_count": 57,
   "metadata": {},
   "outputs": [
    {
     "name": "stdout",
     "output_type": "stream",
     "text": [
      "101 ABC\n",
      "102 PQR\n",
      "101 ABC\n"
     ]
    }
   ],
   "source": [
    "class Emp:\n",
    "    count = 0 \n",
    "    def __init__(self,id,name,email,sal):\n",
    "        self.__emp_id = id\n",
    "        self.__emp_name = name \n",
    "        self.__email = email\n",
    "        self.__emp_sal = sal\n",
    "        Emp.count +=1\n",
    "        \n",
    "    def get_emp_id(self):\n",
    "        return self.__emp_id\n",
    "    \n",
    "    def get_emp_name(self):\n",
    "        return self.__emp_name\n",
    "    \n",
    "    def set_emp_name(self,new_name):\n",
    "        self.__emp_name = new_name\n",
    "        return self.__emp_name\n",
    "    \n",
    "    def set_dept(self,dept_name):\n",
    "        self.__emp_dept = dept_name\n",
    "        \n",
    "    def incr_sal(self,per = 30):\n",
    "        self.__emp_sal = self.__emp_sal + (self.__emp_sal * per) / 100\n",
    "        return self.__emp_sal\n",
    "    \n",
    "    def get_details(self):\n",
    "        return self.__emp_id,self.__emp_name,self.__emp_sal,self.__email\n",
    "    \n",
    "    def __str__(self):\n",
    "        return \"{} {}\".format(self.__emp_id,self.__emp_name)\n",
    "\n",
    "emp1 = Emp(\"101\",\"ABC\",\"abc@gmail.com\",45000)\n",
    "# Emp(emp1,\"101\",\"ABC\",\"abc@gmail.com\",\"45000\")\n",
    "print(emp1)\n",
    "\n",
    "emp2 = Emp(\"102\",\"PQR\",\"pqr@gmail.com\",55000)\n",
    "print(emp2)\n",
    "\n",
    "emp3 = Emp(\"103\",\"XYZ\",\"xyz@gmail.com\",65000)\n",
    "print(emp1)\n",
    "\n",
    "\n"
   ]
  },
  {
   "cell_type": "code",
   "execution_count": 42,
   "metadata": {},
   "outputs": [
    {
     "name": "stdout",
     "output_type": "stream",
     "text": [
      "101\n",
      "POI\n",
      "('101', 'POI', 45000, 'abc@gmail.com')\n"
     ]
    }
   ],
   "source": [
    "print(emp1.get_emp_id())\n",
    "print(emp1.set_emp_name(\"POI\"))\n",
    "print(emp1.get_details())"
   ]
  },
  {
   "cell_type": "code",
   "execution_count": 44,
   "metadata": {},
   "outputs": [
    {
     "name": "stdout",
     "output_type": "stream",
     "text": [
      "{'_Emp__emp_id': '101', '_Emp__emp_name': 'POI', '_Emp__email': 'abc@gmail.com', '_Emp__emp_sal': 45000}\n",
      "101\n"
     ]
    }
   ],
   "source": [
    "print(emp1.__dict__)\n",
    "print(emp1._Emp__emp_id)"
   ]
  },
  {
   "cell_type": "code",
   "execution_count": 47,
   "metadata": {},
   "outputs": [
    {
     "name": "stdout",
     "output_type": "stream",
     "text": [
      "<class 'list'>\n"
     ]
    }
   ],
   "source": [
    "l = [10,20,30,40]\n",
    "print(type(l))\n",
    "\n",
    "class list:\n",
    "    \n",
    "    def append(self):\n",
    "        \n",
    "        \n",
    "    def extend(self):\n",
    "l.append()  "
   ]
  },
  {
   "cell_type": "code",
   "execution_count": 48,
   "metadata": {},
   "outputs": [
    {
     "name": "stdout",
     "output_type": "stream",
     "text": [
      "['__add__', '__class__', '__contains__', '__delattr__', '__delitem__', '__dir__', '__doc__', '__eq__', '__format__', '__ge__', '__getattribute__', '__getitem__', '__gt__', '__hash__', '__iadd__', '__imul__', '__init__', '__init_subclass__', '__iter__', '__le__', '__len__', '__lt__', '__mul__', '__ne__', '__new__', '__reduce__', '__reduce_ex__', '__repr__', '__reversed__', '__rmul__', '__setattr__', '__setitem__', '__sizeof__', '__str__', '__subclasshook__', 'append', 'clear', 'copy', 'count', 'extend', 'index', 'insert', 'pop', 'remove', 'reverse', 'sort']\n"
     ]
    }
   ],
   "source": [
    "print(dir(list))"
   ]
  },
  {
   "cell_type": "code",
   "execution_count": 60,
   "metadata": {},
   "outputs": [
    {
     "name": "stdout",
     "output_type": "stream",
     "text": [
      "3\n",
      "{'_Emp__emp_id': '101', '_Emp__emp_name': 'ABC', '_Emp__email': 'abc@gmail.com', '_Emp__emp_sal': 45000}\n"
     ]
    }
   ],
   "source": [
    "print(Emp.count)\n",
    "print(emp1.__dict__)\n"
   ]
  },
  {
   "cell_type": "code",
   "execution_count": 61,
   "metadata": {},
   "outputs": [
    {
     "name": "stdout",
     "output_type": "stream",
     "text": [
      "{'_Emp__emp_id': '101', '_Emp__emp_name': 'ABC', '_Emp__email': 'abc@gmail.com', '_Emp__emp_sal': 45000, 'count': 200}\n",
      "3\n",
      "200\n",
      "3\n"
     ]
    }
   ],
   "source": [
    "emp1.count = 200\n",
    "print(emp1.__dict__)\n",
    "print(Emp.count)\n",
    "print(emp1.count)\n",
    "print(emp2.count)"
   ]
  },
  {
   "cell_type": "code",
   "execution_count": null,
   "metadata": {},
   "outputs": [],
   "source": [
    "Student \n",
    "    roll no \n",
    "    marks [70,50,45,80,80]\n",
    "    per \n",
    "    result >40 pass else fail\n",
    "\n",
    "all the stundes who are failed \n",
    "1 st 2.nd and 3rank student  \n"
   ]
  },
  {
   "cell_type": "code",
   "execution_count": 11,
   "metadata": {},
   "outputs": [
    {
     "name": "stdout",
     "output_type": "stream",
     "text": [
      "101 ABC\n",
      "102 PQR\n",
      "101 ABC\n"
     ]
    }
   ],
   "source": [
    "class Emp:\n",
    "    count = 0 \n",
    "    emps = []\n",
    "    \n",
    "    @classmethod\n",
    "    def incr_count(cls):\n",
    "        cls.count += 1\n",
    "        \n",
    "    @classmethod    \n",
    "    def get_count(cls):\n",
    "        return cls.count\n",
    "        \n",
    "    @classmethod\n",
    "    def add_emp(cls,obj):\n",
    "        cls.emps.append(obj)\n",
    "    \n",
    "    @staticmethod\n",
    "    def printVal(msg):\n",
    "        print(msg)\n",
    "    \n",
    "    def __init__(self,id,name,email,sal):\n",
    "        self.__emp_id = id\n",
    "        self.__emp_name = name \n",
    "        self.__email = email\n",
    "        self.__emp_sal = sal\n",
    "        Emp.incr_count()\n",
    "        Emp.add_emp(self)\n",
    "        \n",
    "    def get_emp_id(self):\n",
    "        return self.__emp_id\n",
    "    \n",
    "    def get_emp_name(self):\n",
    "        return self.__emp_name\n",
    "    \n",
    "    def set_emp_name(self,new_name):\n",
    "        self.__emp_name = new_name\n",
    "        return self.__emp_name\n",
    "    \n",
    "    def set_dept(self,dept_name):\n",
    "        self.__emp_dept = dept_name\n",
    "        \n",
    "    def incr_sal(self,per = 30):\n",
    "        self.__emp_sal = self.__emp_sal + (self.__emp_sal * per) / 100\n",
    "        return self.__emp_sal\n",
    "    \n",
    "    def get_details(self):\n",
    "        return self.__emp_id,self.__emp_name,self.__emp_sal,self.__email\n",
    "    \n",
    "    def __str__(self):\n",
    "        return \"{} {}\".format(self.__emp_id,self.__emp_name)\n",
    "\n",
    "emp1 = Emp(\"101\",\"ABC\",\"abc@gmail.com\",45000)\n",
    "# Emp(emp1,\"101\",\"ABC\",\"abc@gmail.com\",\"45000\")\n",
    "print(emp1)\n",
    "\n",
    "emp2 = Emp(\"102\",\"PQR\",\"pqr@gmail.com\",55000)\n",
    "print(emp2)\n",
    "\n",
    "emp3 = Emp(\"103\",\"XYZ\",\"xyz@gmail.com\",65000)\n",
    "print(emp1)\n",
    "\n"
   ]
  },
  {
   "cell_type": "code",
   "execution_count": 10,
   "metadata": {},
   "outputs": [
    {
     "name": "stdout",
     "output_type": "stream",
     "text": [
      "3\n",
      "[<__main__.Emp object at 0x00000269A08A3EF0>, <__main__.Emp object at 0x00000269A08991D0>, <__main__.Emp object at 0x00000269A0890470>]\n",
      "('101', 'ABC', 45000, 'abc@gmail.com')\n",
      "('102', 'PQR', 55000, 'pqr@gmail.com')\n",
      "('103', 'XYZ', 65000, 'xyz@gmail.com')\n"
     ]
    }
   ],
   "source": [
    "print(Emp.get_count())\n",
    "print(Emp.emps)\n",
    "\n",
    "for emp in Emp.emps:\n",
    "    print(emp.get_details())"
   ]
  },
  {
   "cell_type": "code",
   "execution_count": 12,
   "metadata": {
    "scrolled": true
   },
   "outputs": [
    {
     "name": "stdout",
     "output_type": "stream",
     "text": [
      "Say Hi\n"
     ]
    }
   ],
   "source": [
    "Emp.printVal(\"Say Hi\")"
   ]
  },
  {
   "cell_type": "code",
   "execution_count": null,
   "metadata": {},
   "outputs": [],
   "source": [
    "User :\n",
    "id \n",
    "first_name \n",
    "last_name \n",
    "email \n",
    "password\n",
    "\n",
    "Profile :\n",
    "    contact_number \n",
    "    adhar number \n",
    "    linkedin profile link\n",
    "    gihub link\n"
   ]
  },
  {
   "cell_type": "code",
   "execution_count": 49,
   "metadata": {},
   "outputs": [],
   "source": [
    "class User:\n",
    "    def __init__(self,id,f_name,l_name,email,password):\n",
    "        self._user_id = id \n",
    "        self._user_f_name = f_name\n",
    "        self._user_l_name = l_name\n",
    "        self._user_email = email \n",
    "        self._user_password = password\n",
    "        \n",
    "    def get_details(self):\n",
    "        return self._user_id,self._user_f_name,self._user_l_name,self._user_email\n",
    "\n",
    "class Admin:\n",
    "    def get_details_admin(self):\n",
    "        return \"method in admin class\"\n",
    "    \n",
    "class Profile(Admin,User):\n",
    "    def __init__(self,id,f_name,l_name,email,password,contact,adhar,linkedin):\n",
    "     \n",
    "        super().__init__(id,f_name,l_name,email,password)\n",
    "        self.profile_contact = contact\n",
    "        self.profile_adhar = adhar\n",
    "        self.profile_linkedin = linkedin \n",
    "        \n",
    "    def get_details(self):\n",
    "#          return self._user_id,self._user_f_name,self._user_l_name,self._user_email,self.profile_contact,self.profile_linkedin\n",
    "          return super().get_details(),self.profile_contact,self.profile_linkedin"
   ]
  },
  {
   "cell_type": "code",
   "execution_count": null,
   "metadata": {},
   "outputs": [],
   "source": []
  },
  {
   "cell_type": "code",
   "execution_count": 50,
   "metadata": {},
   "outputs": [
    {
     "name": "stdout",
     "output_type": "stream",
     "text": [
      "1 ABC\n"
     ]
    }
   ],
   "source": [
    "user1 = Profile(1,\"ABC\",\"PQR\",\"abc@gmail.com\",\"abc@123\",\"7123456789\",\"123456789123\",\"www.linkedin.com/abc\")\n",
    "# print(user1.__dict__)\n",
    "print(user1._user_id,user1._user_f_name)"
   ]
  },
  {
   "cell_type": "code",
   "execution_count": 51,
   "metadata": {},
   "outputs": [
    {
     "name": "stdout",
     "output_type": "stream",
     "text": [
      "((1, 'ABC', 'PQR', 'abc@gmail.com'), '7123456789', 'www.linkedin.com/abc')\n",
      "Help on Profile in module __main__ object:\n",
      "\n",
      "class Profile(Admin, User)\n",
      " |  Method resolution order:\n",
      " |      Profile\n",
      " |      Admin\n",
      " |      User\n",
      " |      builtins.object\n",
      " |  \n",
      " |  Methods defined here:\n",
      " |  \n",
      " |  __init__(self, id, f_name, l_name, email, password, contact, adhar, linkedin)\n",
      " |      Initialize self.  See help(type(self)) for accurate signature.\n",
      " |  \n",
      " |  get_details(self)\n",
      " |  \n",
      " |  ----------------------------------------------------------------------\n",
      " |  Methods inherited from Admin:\n",
      " |  \n",
      " |  get_details_admin(self)\n",
      " |  \n",
      " |  ----------------------------------------------------------------------\n",
      " |  Data descriptors inherited from Admin:\n",
      " |  \n",
      " |  __dict__\n",
      " |      dictionary for instance variables (if defined)\n",
      " |  \n",
      " |  __weakref__\n",
      " |      list of weak references to the object (if defined)\n",
      "\n"
     ]
    }
   ],
   "source": [
    "print(user1.get_details())\n",
    "\n",
    "help(user1)\n",
    "\n",
    "# depth first left to to right approach"
   ]
  },
  {
   "cell_type": "code",
   "execution_count": null,
   "metadata": {},
   "outputs": [],
   "source": [
    "Method overriding : 2 mothods with same and same no of parameters with differnt implentation "
   ]
  },
  {
   "cell_type": "code",
   "execution_count": null,
   "metadata": {},
   "outputs": [],
   "source": [
    "Encapsulation,Data hiding , abstarction \n",
    "Inheritance \n",
    "Polymorphism \n",
    "\n"
   ]
  }
 ],
 "metadata": {
  "kernelspec": {
   "display_name": "Python 3",
   "language": "python",
   "name": "python3"
  },
  "language_info": {
   "codemirror_mode": {
    "name": "ipython",
    "version": 3
   },
   "file_extension": ".py",
   "mimetype": "text/x-python",
   "name": "python",
   "nbconvert_exporter": "python",
   "pygments_lexer": "ipython3",
   "version": "3.6.5"
  }
 },
 "nbformat": 4,
 "nbformat_minor": 2
}
