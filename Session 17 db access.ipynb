{
 "cells": [
  {
   "cell_type": "code",
   "execution_count": 1,
   "metadata": {},
   "outputs": [],
   "source": [
    "import sqlite3"
   ]
  },
  {
   "cell_type": "code",
   "execution_count": null,
   "metadata": {},
   "outputs": [],
   "source": [
    "DB :\n",
    "    table1 Emp\n",
    "    table2 Dept \n",
    "    "
   ]
  },
  {
   "cell_type": "code",
   "execution_count": null,
   "metadata": {},
   "outputs": [],
   "source": [
    "pymysql sqlconnector \n",
    "cx_oracle\n",
    "\n",
    "connect(db=\"db1.db\",hostname=,port=,password= )\n"
   ]
  },
  {
   "cell_type": "code",
   "execution_count": 2,
   "metadata": {},
   "outputs": [],
   "source": [
    "conn = sqlite3.connect(\"db1.db\")"
   ]
  },
  {
   "cell_type": "code",
   "execution_count": 3,
   "metadata": {},
   "outputs": [],
   "source": [
    "c = conn.cursor()"
   ]
  },
  {
   "cell_type": "code",
   "execution_count": null,
   "metadata": {},
   "outputs": [],
   "source": [
    "Emp :\n",
    "    id \n",
    "    name \n",
    "    email \n",
    "    sal"
   ]
  },
  {
   "cell_type": "code",
   "execution_count": 9,
   "metadata": {},
   "outputs": [
    {
     "data": {
      "text/plain": [
       "<sqlite3.Cursor at 0x1faea953420>"
      ]
     },
     "execution_count": 9,
     "metadata": {},
     "output_type": "execute_result"
    }
   ],
   "source": [
    "c.execute(\"\"\"CREATE TABLE IF NOT EXISTS EMP1 (ID INT PRIMARY KEY,NAME TEXT,EMAIL TEXT,SALARY REAL)\"\"\")"
   ]
  },
  {
   "cell_type": "code",
   "execution_count": 21,
   "metadata": {},
   "outputs": [],
   "source": [
    "try:\n",
    "    c.execute(\"\"\"INSERT INTO EMP1(ID,NAME,EMAIL,SALARY) VALUES (104,'XYZ','xyz@GMAIL.COM',55000)\"\"\")\n",
    "    c.execute(\"COMMIT\")\n",
    "except sqlite3.IntegrityError:\n",
    "    print(\"Record already exist\")"
   ]
  },
  {
   "cell_type": "code",
   "execution_count": 12,
   "metadata": {},
   "outputs": [
    {
     "name": "stdout",
     "output_type": "stream",
     "text": [
      "(101, 'ABC', 'ABC@GMAIL.COM', 55000.0)\n"
     ]
    }
   ],
   "source": [
    "c.execute(\"SELECT * FROM EMP1\")\n",
    "\n",
    "for row in c:\n",
    "    print(row)"
   ]
  },
  {
   "cell_type": "code",
   "execution_count": 19,
   "metadata": {},
   "outputs": [
    {
     "name": "stdout",
     "output_type": "stream",
     "text": [
      "Record already exist\n"
     ]
    }
   ],
   "source": [
    "id  = 102\n",
    "name =\"PQR\"\n",
    "email = \"pqr@gmail.com\"\n",
    "sal = 85000\n",
    "try:\n",
    "    c.execute(\"\"\" INSERT INTO EMP1(ID,NAME,EMAIL,SALARY) VALUES (?,?,?,?)\"\"\",(id,name,email,sal))\n",
    "    c.execute(\"COMMIT\")\n",
    "except sqlite3.IntegrityError:\n",
    "    print(\"Record already exist\")"
   ]
  },
  {
   "cell_type": "code",
   "execution_count": 27,
   "metadata": {},
   "outputs": [
    {
     "name": "stdout",
     "output_type": "stream",
     "text": [
      "(101, 'ABC', 'ABC@GMAIL.COM', 55000.0)\n",
      "(102, 'PQR', 'pqr@gmail.com', 85000.0)\n",
      "(103, 'RST', 'rst@GMAIL.COM', 55000.0)\n",
      "(104, 'XYZ', 'xyz@GMAIL.COM', 55000.0)\n"
     ]
    }
   ],
   "source": [
    "c.execute(\"SELECT * FROM EMP1\")\n",
    "print(next(c))\n",
    "print(next(c))\n",
    "print(next(c))\n",
    "print(next(c))\n",
    "\n",
    "\n"
   ]
  },
  {
   "cell_type": "code",
   "execution_count": 28,
   "metadata": {},
   "outputs": [
    {
     "name": "stdout",
     "output_type": "stream",
     "text": [
      "(101, 'ABC', 'ABC@GMAIL.COM', 55000.0)\n",
      "(102, 'PQR', 'pqr@gmail.com', 85000.0)\n",
      "(103, 'RST', 'rst@GMAIL.COM', 55000.0)\n",
      "(104, 'XYZ', 'xyz@GMAIL.COM', 55000.0)\n"
     ]
    }
   ],
   "source": [
    "c.execute(\"SELECT * FROM EMP1\")\n",
    "for row in c:\n",
    "    print(row)"
   ]
  },
  {
   "cell_type": "code",
   "execution_count": 29,
   "metadata": {},
   "outputs": [
    {
     "name": "stdout",
     "output_type": "stream",
     "text": [
      "[(101, 'ABC', 'ABC@GMAIL.COM', 55000.0), (102, 'PQR', 'pqr@gmail.com', 85000.0), (103, 'RST', 'rst@GMAIL.COM', 55000.0), (104, 'XYZ', 'xyz@GMAIL.COM', 55000.0)]\n"
     ]
    }
   ],
   "source": [
    "c.execute(\"SELECT * FROM EMP1\")\n",
    "print(c.fetchall())"
   ]
  },
  {
   "cell_type": "code",
   "execution_count": 31,
   "metadata": {},
   "outputs": [
    {
     "name": "stdout",
     "output_type": "stream",
     "text": [
      "(101, 'ABC', 'ABC@GMAIL.COM', 55000.0)\n",
      "(102, 'PQR', 'pqr@gmail.com', 85000.0)\n"
     ]
    }
   ],
   "source": [
    "c.execute(\"SELECT * FROM EMP1\")\n",
    "print(c.fetchone())\n",
    "print(c.fetchone())\n"
   ]
  },
  {
   "cell_type": "code",
   "execution_count": 32,
   "metadata": {},
   "outputs": [
    {
     "data": {
      "text/plain": [
       "<sqlite3.Cursor at 0x1faea953420>"
      ]
     },
     "execution_count": 32,
     "metadata": {},
     "output_type": "execute_result"
    }
   ],
   "source": [
    "c.execute(\"UPDATE EMP1 SET SALARY = 78000 WHERE ID = 102\")\n",
    "c.execute(\"COMMIT\")"
   ]
  },
  {
   "cell_type": "code",
   "execution_count": 33,
   "metadata": {},
   "outputs": [
    {
     "name": "stdout",
     "output_type": "stream",
     "text": [
      "(102, 'PQR', 'pqr@gmail.com', 78000.0)\n"
     ]
    }
   ],
   "source": [
    "c.execute(\"SELECT * FROM EMP1 WHERE ID = 102\")\n",
    "print(next(c))"
   ]
  },
  {
   "cell_type": "code",
   "execution_count": 35,
   "metadata": {},
   "outputs": [
    {
     "data": {
      "text/plain": [
       "<sqlite3.Cursor at 0x1faea953420>"
      ]
     },
     "execution_count": 35,
     "metadata": {},
     "output_type": "execute_result"
    }
   ],
   "source": [
    "c.execute(\"DELETE FROM EMP1 WHERE ID =103\")\n",
    "c.execute(\"COMMIT\")\n"
   ]
  },
  {
   "cell_type": "code",
   "execution_count": 36,
   "metadata": {},
   "outputs": [
    {
     "name": "stdout",
     "output_type": "stream",
     "text": [
      "[(101, 'ABC', 'ABC@GMAIL.COM', 55000.0), (102, 'PQR', 'pqr@gmail.com', 78000.0), (104, 'XYZ', 'xyz@GMAIL.COM', 55000.0)]\n"
     ]
    }
   ],
   "source": [
    "c.execute(\"SELECT * FROM EMP1\")\n",
    "print(c.fetchall())"
   ]
  },
  {
   "cell_type": "code",
   "execution_count": null,
   "metadata": {},
   "outputs": [],
   "source": [
    "Database \n",
    "    tables roes and cols \n",
    "    \n",
    "Mongo Db :\n",
    "    database \n",
    "        collections \n",
    "            document {\"name\":\"ABC\"......}"
   ]
  }
 ],
 "metadata": {
  "kernelspec": {
   "display_name": "Python 3",
   "language": "python",
   "name": "python3"
  },
  "language_info": {
   "codemirror_mode": {
    "name": "ipython",
    "version": 3
   },
   "file_extension": ".py",
   "mimetype": "text/x-python",
   "name": "python",
   "nbconvert_exporter": "python",
   "pygments_lexer": "ipython3",
   "version": "3.6.5"
  }
 },
 "nbformat": 4,
 "nbformat_minor": 2
}
