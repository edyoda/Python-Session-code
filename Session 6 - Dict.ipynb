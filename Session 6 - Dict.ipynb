{
 "cells": [
  {
   "cell_type": "code",
   "execution_count": null,
   "metadata": {},
   "outputs": [],
   "source": [
    "0,1,1,2,3...."
   ]
  },
  {
   "cell_type": "code",
   "execution_count": 1,
   "metadata": {},
   "outputs": [
    {
     "name": "stdout",
     "output_type": "stream",
     "text": [
      "[1, 1, 2, 3, 5, 8, 13, 21, 34, 55, 89, 144, 233, 377, 610, 987, 1597, 2584, 4181, 6765, 10946]\n"
     ]
    }
   ],
   "source": [
    "l = []\n",
    "first_num = 0\n",
    "sec_num = 1\n",
    "l.append(sec_num)\n",
    "for value in range(20):\n",
    "    next_num = first_num + sec_num\n",
    "    l.append(next_num)\n",
    "    first_num,sec_num = sec_num,next_num\n",
    "    \n",
    "print(l)\n",
    "    "
   ]
  },
  {
   "cell_type": "code",
   "execution_count": null,
   "metadata": {},
   "outputs": [],
   "source": [
    "Dict :\n",
    "    - Mutable => add update and delete\n",
    "    - d = {\"name\":\"ABC\",\"email\":\"abc@gmail.com\"}\n",
    "    - unordered => not support indxing and slicing \n",
    "    - all the keys in dict should be immutable str,int,float ,tuple\n",
    "    - all the keys should be unique "
   ]
  },
  {
   "cell_type": "code",
   "execution_count": null,
   "metadata": {},
   "outputs": [],
   "source": [
    "l = [10,20,30,40,50,70,80]\n",
    "\n",
    "builtin hash function : hash index \n",
    "hash tables :\n",
    "hash index key reftovalue  \n",
    "\n",
    "2          email   address of email val\n",
    "3          name    add of value \n",
    "\n",
    "O(1)"
   ]
  },
  {
   "cell_type": "code",
   "execution_count": 8,
   "metadata": {},
   "outputs": [
    {
     "name": "stdout",
     "output_type": "stream",
     "text": [
      "<class 'dict'> {'name': 'ABC', 'email': 'abc@gmail.com', 'contact': '87123456789'}\n"
     ]
    }
   ],
   "source": [
    "d = {\"name\":\"ABC\",\"email\":\"abc@gmail.com\",\"contact\":\"87123456789\"}\n",
    "print(type(d),d)"
   ]
  },
  {
   "cell_type": "code",
   "execution_count": 4,
   "metadata": {},
   "outputs": [
    {
     "name": "stdout",
     "output_type": "stream",
     "text": [
      "ABC\n"
     ]
    }
   ],
   "source": [
    "print(d[\"name\"])"
   ]
  },
  {
   "cell_type": "code",
   "execution_count": 6,
   "metadata": {},
   "outputs": [
    {
     "ename": "KeyError",
     "evalue": "'age'",
     "output_type": "error",
     "traceback": [
      "\u001b[1;31m---------------------------------------------------------------------------\u001b[0m",
      "\u001b[1;31mKeyError\u001b[0m                                  Traceback (most recent call last)",
      "\u001b[1;32m<ipython-input-6-b6c1f3abca74>\u001b[0m in \u001b[0;36m<module>\u001b[1;34m()\u001b[0m\n\u001b[1;32m----> 1\u001b[1;33m \u001b[0mprint\u001b[0m\u001b[1;33m(\u001b[0m\u001b[0md\u001b[0m\u001b[1;33m[\u001b[0m\u001b[1;34m\"age\"\u001b[0m\u001b[1;33m]\u001b[0m\u001b[1;33m)\u001b[0m\u001b[1;33m\u001b[0m\u001b[0m\n\u001b[0m",
      "\u001b[1;31mKeyError\u001b[0m: 'age'"
     ]
    }
   ],
   "source": [
    "print(d[\"age\"])"
   ]
  },
  {
   "cell_type": "code",
   "execution_count": null,
   "metadata": {},
   "outputs": [],
   "source": [
    "{\n",
    "    {\n",
    "        \n",
    "    }\n",
    "    \n",
    "    \n",
    "    {\n",
    "        \n",
    "    }\n",
    "    \n",
    "}"
   ]
  },
  {
   "cell_type": "code",
   "execution_count": 1,
   "metadata": {},
   "outputs": [
    {
     "name": "stdout",
     "output_type": "stream",
     "text": [
      "{'name': 'ABC', 'email': 'abc@gmail.com', 'contact': '87123456789'}\n"
     ]
    }
   ],
   "source": [
    "d = {\"name\":\"ABC\",\"email\":\"abc@gmail.com\",\"contact\":\"87123456789\"}\n",
    "print(d)"
   ]
  },
  {
   "cell_type": "code",
   "execution_count": 12,
   "metadata": {},
   "outputs": [
    {
     "ename": "KeyError",
     "evalue": "'age'",
     "output_type": "error",
     "traceback": [
      "\u001b[1;31m---------------------------------------------------------------------------\u001b[0m",
      "\u001b[1;31mKeyError\u001b[0m                                  Traceback (most recent call last)",
      "\u001b[1;32m<ipython-input-12-a4aef8a330d9>\u001b[0m in \u001b[0;36m<module>\u001b[1;34m()\u001b[0m\n\u001b[1;32m----> 1\u001b[1;33m \u001b[0mprint\u001b[0m\u001b[1;33m(\u001b[0m\u001b[0md\u001b[0m\u001b[1;33m[\u001b[0m\u001b[1;34m'age'\u001b[0m\u001b[1;33m]\u001b[0m\u001b[1;33m)\u001b[0m\u001b[1;33m\u001b[0m\u001b[0m\n\u001b[0m",
      "\u001b[1;31mKeyError\u001b[0m: 'age'"
     ]
    }
   ],
   "source": [
    "print(d['age'])"
   ]
  },
  {
   "cell_type": "code",
   "execution_count": 4,
   "metadata": {},
   "outputs": [
    {
     "name": "stdout",
     "output_type": "stream",
     "text": [
      "abc@gmail.com\n"
     ]
    }
   ],
   "source": [
    "print(d.get(\"email\"))"
   ]
  },
  {
   "cell_type": "code",
   "execution_count": 3,
   "metadata": {},
   "outputs": [
    {
     "name": "stdout",
     "output_type": "stream",
     "text": [
      "abc@gmail.com\n",
      "{'name': 'ABC', 'email': 'abc@gmail.com', 'contact': '87123456789', 'age': 30}\n"
     ]
    }
   ],
   "source": [
    "print(d.setdefault(\"email\",30))\n",
    "print(d)"
   ]
  },
  {
   "cell_type": "code",
   "execution_count": 7,
   "metadata": {},
   "outputs": [
    {
     "name": "stdout",
     "output_type": "stream",
     "text": [
      "{1: 1, 2: 4, 3: 9, 4: 16, 5: 25, 6: 36, 7: 49, 8: 64, 9: 81, 10: 100}\n",
      "81\n"
     ]
    }
   ],
   "source": [
    "#d ={1:1,2:4,3:9....10:100}\n",
    "d1 ={}\n",
    "for key in range(1,11):\n",
    "    d1.setdefault(key,key ** 2)\n",
    "\n",
    "print(d1)\n",
    "print(d1.get(9))"
   ]
  },
  {
   "cell_type": "code",
   "execution_count": 11,
   "metadata": {},
   "outputs": [
    {
     "name": "stdout",
     "output_type": "stream",
     "text": [
      "97 122\n",
      "a z\n"
     ]
    }
   ],
   "source": [
    "print(ord('a'),ord('z'))\n",
    "print(chr(97),chr(122))"
   ]
  },
  {
   "cell_type": "code",
   "execution_count": null,
   "metadata": {},
   "outputs": [],
   "source": [
    "'a':97,'b':98,'c':99.........................'z':122"
   ]
  },
  {
   "cell_type": "code",
   "execution_count": 12,
   "metadata": {},
   "outputs": [
    {
     "name": "stdout",
     "output_type": "stream",
     "text": [
      "{'a': 97, 'b': 98, 'c': 99, 'd': 100, 'e': 101, 'f': 102, 'g': 103, 'h': 104, 'i': 105, 'j': 106, 'k': 107, 'l': 108, 'm': 109, 'n': 110, 'o': 111, 'p': 112, 'q': 113, 'r': 114, 's': 115, 't': 116, 'u': 117, 'v': 118, 'w': 119, 'x': 120, 'y': 121, 'z': 122}\n"
     ]
    }
   ],
   "source": [
    "d2 = {}\n",
    "for value in range(ord('a'),ord('z')+1):\n",
    "    d2.setdefault(chr(value),value)\n",
    "print(d2)"
   ]
  },
  {
   "cell_type": "code",
   "execution_count": 15,
   "metadata": {},
   "outputs": [
    {
     "name": "stdout",
     "output_type": "stream",
     "text": [
      "[(10, 100), (20, 200), (30, 300), (40, 400), (50, 500)]\n"
     ]
    }
   ],
   "source": [
    "l1 = [10,20,30,40,50]\n",
    "l2 = [100,200,300,400,500,600]\n",
    "l3 = list(zip(l1,l2))\n",
    "print(l3)"
   ]
  },
  {
   "cell_type": "code",
   "execution_count": null,
   "metadata": {},
   "outputs": [],
   "source": [
    "d ={(1,10):0,(11,20):0,(21,30):0.............(91,100):0}"
   ]
  },
  {
   "cell_type": "code",
   "execution_count": 25,
   "metadata": {},
   "outputs": [
    {
     "name": "stdout",
     "output_type": "stream",
     "text": [
      "{(1, 10): 3, (11, 20): 2, (21, 30): 0, (31, 40): 0, (41, 50): 1, (51, 60): 0, (61, 70): 2, (71, 80): 0, (81, 90): 1, (91, 100): 0}\n"
     ]
    }
   ],
   "source": [
    "d3 = {}\n",
    "l = [45,10,11,12,5,7,90,70,65]\n",
    "# num1 = 45\n",
    "for key in zip(range(1,92,10),range(10,101,10)):\n",
    "    d3.setdefault(key,0)\n",
    "# print(d3)\n",
    "\n",
    "for num1 in l:\n",
    "    for key in d3:\n",
    "        if num1 >= key[0] and num1 <= key[1]:\n",
    "            d3[key] = d3[key] + 1\n",
    "print(d3)  "
   ]
  },
  {
   "cell_type": "code",
   "execution_count": 26,
   "metadata": {},
   "outputs": [
    {
     "name": "stdout",
     "output_type": "stream",
     "text": [
      "{'name': 'ABC', 'email': 'abc@gmail.com', 'contact': '87123456789', 'age': 30}\n",
      "{'name': 'ABC', 'email': 'abc@gmail.com', 'contact': '87123456789', 'age': 30}\n"
     ]
    }
   ],
   "source": [
    "d = {\"name\":\"ABC\",\"email\":\"abc@gmail.com\",\"contact\":\"87123456789\"}\n",
    "d['age'] =30\n",
    "print(d)\n",
    "\n",
    "# d['age'] =50\n",
    "# print(d)\n",
    "d.setdefault(\"age\",50)\n",
    "print(d)"
   ]
  },
  {
   "cell_type": "code",
   "execution_count": null,
   "metadata": {},
   "outputs": [],
   "source": [
    "Delete methods :\n",
    "    1 pop => remove specific key and value pair (return only value)\n",
    "    2 popitem => remove last key and value pair (only after 3.6v ) (return key and value as tuple )\n",
    "    3 clear => remove all key and value pair (empty dict )\n",
    "    4 del => del the reference"
   ]
  },
  {
   "cell_type": "code",
   "execution_count": 33,
   "metadata": {},
   "outputs": [
    {
     "name": "stdout",
     "output_type": "stream",
     "text": [
      "{}\n"
     ]
    },
    {
     "ename": "NameError",
     "evalue": "name 'd' is not defined",
     "output_type": "error",
     "traceback": [
      "\u001b[1;31m---------------------------------------------------------------------------\u001b[0m",
      "\u001b[1;31mNameError\u001b[0m                                 Traceback (most recent call last)",
      "\u001b[1;32m<ipython-input-33-fdf0613526f2>\u001b[0m in \u001b[0;36m<module>\u001b[1;34m()\u001b[0m\n\u001b[0;32m     12\u001b[0m \u001b[1;33m\u001b[0m\u001b[0m\n\u001b[0;32m     13\u001b[0m \u001b[1;32mdel\u001b[0m \u001b[0md\u001b[0m\u001b[1;33m\u001b[0m\u001b[0m\n\u001b[1;32m---> 14\u001b[1;33m \u001b[0mprint\u001b[0m\u001b[1;33m(\u001b[0m\u001b[0md\u001b[0m\u001b[1;33m)\u001b[0m\u001b[1;33m\u001b[0m\u001b[0m\n\u001b[0m",
      "\u001b[1;31mNameError\u001b[0m: name 'd' is not defined"
     ]
    }
   ],
   "source": [
    "d = {\"name\":\"ABC\",\"email\":\"abc@gmail.com\",\"contact\":\"87123456789\"}\n",
    "# r = d.popitem()\n",
    "# print(d,r)\n",
    "# r = d.popitem()\n",
    "# print(d,r)\n",
    "\n",
    "# r =  d.pop(\"name\")\n",
    "# print(d,r)\n",
    "\n",
    "d.clear()\n",
    "print(d)\n",
    "\n",
    "del d\n",
    "print(d)"
   ]
  },
  {
   "cell_type": "code",
   "execution_count": 9,
   "metadata": {},
   "outputs": [
    {
     "name": "stdout",
     "output_type": "stream",
     "text": [
      "name ABC\n",
      "email abc@gmail.com\n",
      "contact 87123456789\n"
     ]
    }
   ],
   "source": [
    "d = {\"name\":\"ABC\",\"email\":\"abc@gmail.com\",\"contact\":\"87123456789\"}\n",
    "for key,value in d.items():\n",
    "    print(key,value)"
   ]
  },
  {
   "cell_type": "code",
   "execution_count": 7,
   "metadata": {},
   "outputs": [
    {
     "name": "stdout",
     "output_type": "stream",
     "text": [
      "dict_keys(['name', 'email', 'contact'])\n",
      "dict_values(['ABC', 'abc@gmail.com', '87123456789'])\n",
      "dict_items([('name', 'ABC'), ('email', 'abc@gmail.com'), ('contact', '87123456789')])\n"
     ]
    }
   ],
   "source": [
    "print(d.keys())\n",
    "print(d.values())\n",
    "print(d.items())"
   ]
  },
  {
   "cell_type": "code",
   "execution_count": 17,
   "metadata": {},
   "outputs": [
    {
     "name": "stdout",
     "output_type": "stream",
     "text": [
      "{'ABC': 4.6, 'PQR': 2.8, 'XYZ': 1.6, 'RST': 4.0}\n"
     ]
    }
   ],
   "source": [
    "d1 = {\"ABC\":\"5,4,4,5,5\",\"PQR\":\"2,4,4,2,2\",\"XYZ\":\"1,4,1,1,1\",\"RST\":\"4,4,4,4,4\"}\n",
    "# d2 = {\"ABC\":4.2,\"PQR\":2.8,\"XYZ\":2.2,\"RST\":4}\n",
    "d2 = {}\n",
    "for key,value in d1.items():\n",
    "#     print(key,value)\n",
    "    reviews = value.split(\",\")\n",
    "    #print(reviews)\n",
    "    sum = 0\n",
    "    for val in reviews:\n",
    "        sum =  sum + int(val)\n",
    "    #print(sum/5)\n",
    "    d2.setdefault(key,sum/5)\n",
    "print(d2)"
   ]
  },
  {
   "cell_type": "code",
   "execution_count": 22,
   "metadata": {},
   "outputs": [
    {
     "name": "stdout",
     "output_type": "stream",
     "text": [
      "{1: 1, 2: 4, 3: 9, 4: 16, 5: 25}\n"
     ]
    }
   ],
   "source": [
    "d1 = {1:1,2:4,3:9}\n",
    "d2 = {4:16,5:25}\n",
    "d1.update(d2)\n",
    "print(d1)"
   ]
  },
  {
   "cell_type": "code",
   "execution_count": 24,
   "metadata": {},
   "outputs": [
    {
     "name": "stdout",
     "output_type": "stream",
     "text": [
      "{1: 1, 2: 4, 3: 9, 4: 16, 5: 25, 6: 36}\n"
     ]
    }
   ],
   "source": [
    "l1 = [1,2,3,4,5,6]\n",
    "l2 = [1,4,9,16,25,36]\n",
    "l = dict(zip(l1,l2))\n",
    "print(l)"
   ]
  },
  {
   "cell_type": "code",
   "execution_count": 27,
   "metadata": {},
   "outputs": [
    {
     "name": "stdout",
     "output_type": "stream",
     "text": [
      "{10: 10, 20: 10, 30: 10, 40: 10, 50: 10, 60: 10}\n"
     ]
    }
   ],
   "source": [
    "l1 = [10,20,30,40,50,60]\n",
    "d1 = dict.fromkeys(l1,10)\n",
    "print(d1)"
   ]
  },
  {
   "cell_type": "code",
   "execution_count": 36,
   "metadata": {},
   "outputs": [
    {
     "name": "stdout",
     "output_type": "stream",
     "text": [
      "10 y\n"
     ]
    }
   ],
   "source": [
    "s = \"abcdaaabbbbcccdddddeeeeeeeerrryyyyyyyyyy\"\n",
    "d1 ={}\n",
    "for key in s:\n",
    "    if key in d1:\n",
    "        d1[key] = s.count(key)\n",
    "    else:\n",
    "        d1.setdefault(key,0)\n",
    "max_key = None\n",
    "max_value = 0\n",
    "\n",
    "for key,value in d1.items(): \n",
    "    if value > max_value:\n",
    "        max_value = value \n",
    "        max_key = key\n",
    "        \n",
    "print(max_value,max_key)"
   ]
  },
  {
   "cell_type": "code",
   "execution_count": 34,
   "metadata": {},
   "outputs": [
    {
     "name": "stdout",
     "output_type": "stream",
     "text": [
      "25\n",
      "{1: 1, 2: 4, 3: 9, 4: 16, 5: 25}\n"
     ]
    }
   ],
   "source": [
    "d1 = {1:1,2:4,3:9,4:16}\n",
    "print(d1.setdefault(5,25))\n",
    "print(d1)"
   ]
  },
  {
   "cell_type": "code",
   "execution_count": null,
   "metadata": {},
   "outputs": [],
   "source": [
    "Sets : \n",
    "    - all the elements  should be unique \n",
    "    \n",
    "    s1 = {10,20,30,40,50}\n",
    "    s2 = {30,40,50,60,70}\n",
    "    \n",
    "    s1 union s2 = {10,20,30,40,50,60,70}\n",
    "    \n",
    "    s1 intesection s2 = {30,40,50}\n",
    "    \n",
    "    s1 difference s2 = {10,20}\n",
    "    s2 difference s1 = {60,70}\n",
    "    \n",
    "    s1 symmetric difference s2 = {10,20,60,70}\n",
    "\n",
    "    s3 = {10,20}\n",
    "    \n",
    "    s3 is subset of s1\n",
    "    s1 is superset of s3"
   ]
  },
  {
   "cell_type": "code",
   "execution_count": null,
   "metadata": {},
   "outputs": [],
   "source": [
    "Sets :\n",
    "    - dict with value as None \n",
    "    - s = {10,20,30,40,50}\n",
    "    - s = {10:None,20:None,30:None}\n",
    "    - all the elements should be unique \n",
    "    - all the elemnts in set should be immutable \n",
    "    - mutable add, upadte and delete \n",
    "    - unordered => no indexing and slicing "
   ]
  },
  {
   "cell_type": "code",
   "execution_count": 40,
   "metadata": {},
   "outputs": [
    {
     "name": "stdout",
     "output_type": "stream",
     "text": [
      "<class 'set'> {40, 10, 50, 20, 30}\n"
     ]
    }
   ],
   "source": [
    "s1 = {10,20,30,40,50}\n",
    "print(type(s1),s1)"
   ]
  },
  {
   "cell_type": "code",
   "execution_count": 39,
   "metadata": {},
   "outputs": [
    {
     "name": "stdout",
     "output_type": "stream",
     "text": [
      "<class 'set'>\n"
     ]
    }
   ],
   "source": [
    "s1 = set()\n",
    "print(type(s1))"
   ]
  },
  {
   "cell_type": "code",
   "execution_count": 41,
   "metadata": {},
   "outputs": [],
   "source": [
    "s1 = {10,20,30,40,50}\n",
    "s2 = {30,40,50,60,70}\n"
   ]
  },
  {
   "cell_type": "code",
   "execution_count": 42,
   "metadata": {},
   "outputs": [
    {
     "name": "stdout",
     "output_type": "stream",
     "text": [
      "{70, 40, 10, 50, 20, 60, 30}\n"
     ]
    }
   ],
   "source": [
    "s3 = s1.union(s2)\n",
    "print(s3)"
   ]
  },
  {
   "cell_type": "code",
   "execution_count": 43,
   "metadata": {},
   "outputs": [
    {
     "name": "stdout",
     "output_type": "stream",
     "text": [
      "{70, 40, 10, 50, 20, 60, 30}\n"
     ]
    }
   ],
   "source": [
    "s1.update(s2)\n",
    "print(s1)"
   ]
  },
  {
   "cell_type": "code",
   "execution_count": 48,
   "metadata": {},
   "outputs": [
    {
     "name": "stdout",
     "output_type": "stream",
     "text": [
      "{40, 50, 30}\n",
      "{40, 50, 30}\n"
     ]
    }
   ],
   "source": [
    "s1 = {10,20,30,40,50}\n",
    "s2 = {30,40,50,60,70}\n",
    "\n",
    "s3 = s1.intersection(s2)\n",
    "print(s3)\n",
    "s1.intersection_update(s2)\n",
    "print(s1)"
   ]
  },
  {
   "cell_type": "code",
   "execution_count": 50,
   "metadata": {},
   "outputs": [
    {
     "name": "stdout",
     "output_type": "stream",
     "text": [
      "{10, 20}\n",
      "{10, 20}\n"
     ]
    }
   ],
   "source": [
    "s1 = {10,20,30,40,50}\n",
    "s2 = {30,40,50,60,70}\n",
    "\n",
    "s3 = s1.difference(s2)\n",
    "print(s3)\n",
    "\n",
    "s1.difference_update(s2)\n",
    "print(s1)"
   ]
  },
  {
   "cell_type": "code",
   "execution_count": 52,
   "metadata": {},
   "outputs": [
    {
     "name": "stdout",
     "output_type": "stream",
     "text": [
      "{20, 70, 10, 60}\n",
      "{70, 10, 20, 60}\n"
     ]
    }
   ],
   "source": [
    "s1 = {10,20,30,40,50}\n",
    "s2 = {30,40,50,60,70}\n",
    "\n",
    "s3 = s1.symmetric_difference(s2)\n",
    "print(s3)\n",
    "\n",
    "s1.symmetric_difference_update(s2)\n",
    "print(s1)"
   ]
  },
  {
   "cell_type": "code",
   "execution_count": 55,
   "metadata": {},
   "outputs": [
    {
     "name": "stdout",
     "output_type": "stream",
     "text": [
      "True\n",
      "True\n"
     ]
    }
   ],
   "source": [
    "s1 = {10,20,30,40,50}\n",
    "s3 = {10,20,30}\n",
    "print(s3.issubset(s1))\n",
    "print(s1.issuperset(s3))\n"
   ]
  },
  {
   "cell_type": "code",
   "execution_count": 60,
   "metadata": {},
   "outputs": [
    {
     "name": "stdout",
     "output_type": "stream",
     "text": [
      "{34, 100, 5, 200, 41, 10, 45, 78, 20, 52}\n",
      "[5, 10, 20, 34, 41, 45, 52, 78, 100, 200]\n"
     ]
    }
   ],
   "source": [
    "l1 = [10,45,20,34,5,78,41,52]\n",
    "l2 = [10,20,45,78,100,200,34,45,20]\n",
    "# single sorted unique list \n",
    "\n",
    "s1 = set(l1)\n",
    "s2 = set(l2)\n",
    "\n",
    "s3 = s1.union(s2)\n",
    "print(s3)\n",
    "\n",
    "l3 = sorted(s3)\n",
    "print(l3)"
   ]
  }
 ],
 "metadata": {
  "kernelspec": {
   "display_name": "Python 3",
   "language": "python",
   "name": "python3"
  },
  "language_info": {
   "codemirror_mode": {
    "name": "ipython",
    "version": 3
   },
   "file_extension": ".py",
   "mimetype": "text/x-python",
   "name": "python",
   "nbconvert_exporter": "python",
   "pygments_lexer": "ipython3",
   "version": "3.6.5"
  }
 },
 "nbformat": 4,
 "nbformat_minor": 2
}
