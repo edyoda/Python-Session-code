{
 "cells": [
  {
   "cell_type": "code",
   "execution_count": null,
   "metadata": {},
   "outputs": [],
   "source": [
    "Reuse the code \n",
    "Maintain the code "
   ]
  },
  {
   "cell_type": "code",
   "execution_count": null,
   "metadata": {},
   "outputs": [],
   "source": [
    "fun def \n",
    "fun call\n",
    "\n",
    "s = \"Python\"\n",
    "print(s.index(\"o\"))\n"
   ]
  },
  {
   "cell_type": "code",
   "execution_count": 4,
   "metadata": {},
   "outputs": [
    {
     "name": "stdout",
     "output_type": "stream",
     "text": [
      "30\n",
      "PythonJava\n",
      "[10, 20, 30, 40, 100, 200, 300, 400]\n"
     ]
    }
   ],
   "source": [
    "def add(num1,num2):\n",
    "    num3 = num1 + num2\n",
    "    return num3\n",
    "\n",
    "r = add(10,20)\n",
    "print(r)\n",
    "\n",
    "r = add(\"Python\",\"Java\")\n",
    "print(r)\n",
    "\n",
    "r = add([10,20,30,40],[100,200,300,400])\n",
    "print(r)"
   ]
  },
  {
   "cell_type": "code",
   "execution_count": 1,
   "metadata": {},
   "outputs": [
    {
     "ename": "NameError",
     "evalue": "name 'linear_serach' is not defined",
     "output_type": "error",
     "traceback": [
      "\u001b[1;31m---------------------------------------------------------------------------\u001b[0m",
      "\u001b[1;31mNameError\u001b[0m                                 Traceback (most recent call last)",
      "\u001b[1;32m<ipython-input-1-4a4bdbedc0c3>\u001b[0m in \u001b[0;36m<module>\u001b[1;34m()\u001b[0m\n\u001b[0;32m      2\u001b[0m \u001b[0ml\u001b[0m \u001b[1;33m=\u001b[0m \u001b[1;33m[\u001b[0m\u001b[1;36m10\u001b[0m\u001b[1;33m,\u001b[0m\u001b[1;36m20\u001b[0m\u001b[1;33m,\u001b[0m\u001b[1;36m30\u001b[0m\u001b[1;33m,\u001b[0m\u001b[1;36m40\u001b[0m\u001b[1;33m,\u001b[0m\u001b[1;36m50\u001b[0m\u001b[1;33m,\u001b[0m\u001b[1;36m60\u001b[0m\u001b[1;33m]\u001b[0m\u001b[1;33m\u001b[0m\u001b[0m\n\u001b[0;32m      3\u001b[0m \u001b[0mkey\u001b[0m \u001b[1;33m=\u001b[0m \u001b[1;36m600\u001b[0m\u001b[1;33m\u001b[0m\u001b[0m\n\u001b[1;32m----> 4\u001b[1;33m \u001b[0mprint\u001b[0m\u001b[1;33m(\u001b[0m\u001b[0mlinear_serach\u001b[0m\u001b[1;33m(\u001b[0m\u001b[0ml\u001b[0m\u001b[1;33m,\u001b[0m\u001b[0mkey\u001b[0m\u001b[1;33m)\u001b[0m\u001b[1;33m)\u001b[0m\u001b[1;33m\u001b[0m\u001b[0m\n\u001b[0m\u001b[0;32m      5\u001b[0m \u001b[1;33m\u001b[0m\u001b[0m\n\u001b[0;32m      6\u001b[0m \u001b[1;32mdef\u001b[0m \u001b[0mlinear_serach\u001b[0m\u001b[1;33m(\u001b[0m\u001b[0ml\u001b[0m\u001b[1;33m,\u001b[0m\u001b[0mkey\u001b[0m\u001b[1;33m)\u001b[0m\u001b[1;33m:\u001b[0m\u001b[1;33m\u001b[0m\u001b[0m\n",
      "\u001b[1;31mNameError\u001b[0m: name 'linear_serach' is not defined"
     ]
    }
   ],
   "source": [
    "def linear_serach(l,key):\n",
    "    for value in l:\n",
    "        if key == value:\n",
    "            return True\n",
    "    else:\n",
    "        return False\n",
    "\n",
    "l = [10,20,30,40,50,60]\n",
    "key = 600\n",
    "print(linear_serach(l,key))\n",
    "\n",
    "\n",
    "\n"
   ]
  },
  {
   "cell_type": "code",
   "execution_count": 4,
   "metadata": {},
   "outputs": [
    {
     "name": "stdout",
     "output_type": "stream",
     "text": [
      "[1, 1, 2, 3, 5]\n"
     ]
    }
   ],
   "source": [
    "def fibo(num):\n",
    "    count = 0\n",
    "    first_num = 0\n",
    "    sec_num = 1\n",
    "    l = []\n",
    "    l.append(sec_num)\n",
    "    while(count < num-1):\n",
    "        next_val = first_num + sec_num\n",
    "        l.append(next_val)\n",
    "        first_num,sec_num = sec_num,next_val\n",
    "        count += 1\n",
    "    return l      \n",
    "    \n",
    "l = fibo(5)\n",
    "print(l)\n",
    "#0,1,1,2,3,5,8........"
   ]
  },
  {
   "cell_type": "code",
   "execution_count": 8,
   "metadata": {},
   "outputs": [
    {
     "name": "stdout",
     "output_type": "stream",
     "text": [
      "345\n"
     ]
    }
   ],
   "source": [
    "def sec_max(l):\n",
    "    s = set(l)\n",
    "    l1 = sorted(s)\n",
    "    l1.pop()\n",
    "    return l1[-1]\n",
    "\n",
    "l = [45,10,20,345,345,345,41,455,100,455,120,45,10,52,100,455]\n",
    "num = sec_max(l)\n",
    "print(num)"
   ]
  },
  {
   "cell_type": "markdown",
   "metadata": {},
   "source": [
    "Parameter  passing Techniques:\n",
    "> - 1 Positional args => Total no args in fun def and fun call should be same.Sequential mapping between fun call and def  \n",
    "> - 2 Default args => s1et a default value to param in fun def \n",
    "\n",
    "> - 3 Variable length positional => pack all args to tuple , fun can accept any no args \n",
    "> - 4 keyword args => \n",
    "> - 5 variable length keyword args => **kwargs\n",
    "> - 6 Unpacking  "
   ]
  },
  {
   "cell_type": "code",
   "execution_count": 22,
   "metadata": {},
   "outputs": [
    {
     "ename": "TypeError",
     "evalue": "add() takes from 0 to 3 positional arguments but 6 were given",
     "output_type": "error",
     "traceback": [
      "\u001b[1;31m---------------------------------------------------------------------------\u001b[0m",
      "\u001b[1;31mTypeError\u001b[0m                                 Traceback (most recent call last)",
      "\u001b[1;32m<ipython-input-22-dc0ddd7eb132>\u001b[0m in \u001b[0;36m<module>\u001b[1;34m()\u001b[0m\n\u001b[0;32m      6\u001b[0m \u001b[0mnum2\u001b[0m \u001b[1;33m=\u001b[0m \u001b[1;36m20\u001b[0m\u001b[1;33m\u001b[0m\u001b[0m\n\u001b[0;32m      7\u001b[0m \u001b[0mnum3\u001b[0m \u001b[1;33m=\u001b[0m \u001b[1;36m30\u001b[0m\u001b[1;33m\u001b[0m\u001b[0m\n\u001b[1;32m----> 8\u001b[1;33m \u001b[0mprint\u001b[0m\u001b[1;33m(\u001b[0m\u001b[0madd\u001b[0m\u001b[1;33m(\u001b[0m\u001b[1;36m10\u001b[0m\u001b[1;33m,\u001b[0m\u001b[1;36m20\u001b[0m\u001b[1;33m,\u001b[0m\u001b[1;36m30\u001b[0m\u001b[1;33m,\u001b[0m\u001b[1;36m40\u001b[0m\u001b[1;33m,\u001b[0m\u001b[1;36m50\u001b[0m\u001b[1;33m,\u001b[0m\u001b[1;36m60\u001b[0m\u001b[1;33m)\u001b[0m\u001b[1;33m)\u001b[0m\u001b[1;33m\u001b[0m\u001b[0m\n\u001b[0m\u001b[0;32m      9\u001b[0m \u001b[0mprint\u001b[0m\u001b[1;33m(\u001b[0m\u001b[0madd\u001b[0m\u001b[1;33m(\u001b[0m\u001b[1;36m10\u001b[0m\u001b[1;33m,\u001b[0m\u001b[1;36m20\u001b[0m\u001b[1;33m)\u001b[0m\u001b[1;33m)\u001b[0m\u001b[1;33m\u001b[0m\u001b[0m\n\u001b[0;32m     10\u001b[0m \u001b[0mprint\u001b[0m\u001b[1;33m(\u001b[0m\u001b[0madd\u001b[0m\u001b[1;33m(\u001b[0m\u001b[1;36m10\u001b[0m\u001b[1;33m,\u001b[0m\u001b[1;36m20\u001b[0m\u001b[1;33m,\u001b[0m\u001b[1;36m30\u001b[0m\u001b[1;33m,\u001b[0m\u001b[1;36m40\u001b[0m\u001b[1;33m,\u001b[0m\u001b[1;36m50\u001b[0m\u001b[1;33m)\u001b[0m\u001b[1;33m)\u001b[0m\u001b[1;33m\u001b[0m\u001b[0m\n",
      "\u001b[1;31mTypeError\u001b[0m: add() takes from 0 to 3 positional arguments but 6 were given"
     ]
    }
   ],
   "source": [
    "def add(val1 = 0,val2 = 0,val3 = 0):\n",
    "    print(val1,val2,val3)\n",
    "    return val1 + val2 + val3\n",
    "\n",
    "num1 = 10\n",
    "num2 = 20\n",
    "num3 = 30\n",
    "print(add(10,20,30,40,50,60))\n",
    "print(add(10,20))\n",
    "print(add(10,20,30,40,50))"
   ]
  },
  {
   "cell_type": "code",
   "execution_count": 19,
   "metadata": {},
   "outputs": [
    {
     "name": "stdout",
     "output_type": "stream",
     "text": [
      "10 20\n",
      "Help on built-in function print in module builtins:\n",
      "\n",
      "print(...)\n",
      "    print(value, ..., sep=' ', end='\\n', file=sys.stdout, flush=False)\n",
      "    \n",
      "    Prints the values to a stream, or to sys.stdout by default.\n",
      "    Optional keyword arguments:\n",
      "    file:  a file-like object (stream); defaults to the current sys.stdout.\n",
      "    sep:   string inserted between values, default a space.\n",
      "    end:   string appended after the last value, default a newline.\n",
      "    flush: whether to forcibly flush the stream.\n",
      "\n"
     ]
    }
   ],
   "source": [
    "print(10,20)\n",
    "help(print)"
   ]
  },
  {
   "cell_type": "code",
   "execution_count": 21,
   "metadata": {},
   "outputs": [
    {
     "name": "stdout",
     "output_type": "stream",
     "text": [
      "22!18W\n",
      "3@Er8145\n"
     ]
    }
   ],
   "source": [
    "import random\n",
    "def gen_pass(char = 8):\n",
    "    upper = chr(random.randint(ord('A'),ord('Z')))\n",
    "    lower = chr(random.randint(ord('a'),ord('z')))\n",
    "\n",
    "    l = ['!','@','#','$']\n",
    "    special = random.choice(l)\n",
    "    digits = random.randint(10000,99999)\n",
    "    temp = upper + lower + special + str(digits)\n",
    "    \n",
    "    l1= random.sample(temp,char)\n",
    "\n",
    "    password = (\"\").join(l1)\n",
    "    return password\n",
    "\n",
    "print(gen_pass(6))\n",
    "print(gen_pass())"
   ]
  },
  {
   "cell_type": "code",
   "execution_count": 24,
   "metadata": {},
   "outputs": [
    {
     "name": "stdout",
     "output_type": "stream",
     "text": [
      "210\n",
      "30\n",
      "0\n",
      "150\n"
     ]
    }
   ],
   "source": [
    "def add(*args):\n",
    "#     print(args)\n",
    "    return sum(args)\n",
    "\n",
    "num1 = 10\n",
    "num2 = 20\n",
    "num3 = 30\n",
    "print(add(10,20,30,40,50,60))\n",
    "print(add(10,20))\n",
    "print(add())\n",
    "print(add(10,20,30,40,50))"
   ]
  },
  {
   "cell_type": "code",
   "execution_count": 26,
   "metadata": {},
   "outputs": [
    {
     "data": {
      "text/plain": [
       "[1110, 2220, 3330]"
      ]
     },
     "execution_count": 26,
     "metadata": {},
     "output_type": "execute_result"
    }
   ],
   "source": [
    "def add_index(l1,l2,l3):\n",
    "    l4 = []\n",
    "    for value in zip(l1,l2,l3):\n",
    "        l4.append(sum(value))\n",
    "    return l4\n",
    "\n",
    "add_index([10,20,30],[100,200,300],[1000,2000,3000])"
   ]
  },
  {
   "cell_type": "code",
   "execution_count": 31,
   "metadata": {},
   "outputs": [
    {
     "name": "stdout",
     "output_type": "stream",
     "text": [
      "Valid\n",
      "Invalid\n",
      "Valid\n"
     ]
    }
   ],
   "source": [
    "def auth(username,password):\n",
    "    if username == \"abc@123\" and password == \"abcd123\":\n",
    "        print(\"Valid\")\n",
    "    else:\n",
    "        print(\"Invalid\")\n",
    "        \n",
    "auth(\"abc@123\",\"abcd123\")\n",
    "auth(\"abcd123\",\"abc@123\")\n",
    "auth(password=\"abcd123\",username = \"abc@123\")"
   ]
  },
  {
   "cell_type": "code",
   "execution_count": 36,
   "metadata": {},
   "outputs": [
    {
     "name": "stdout",
     "output_type": "stream",
     "text": [
      "(30, 40, 50, 60)\n",
      "{'name': 'ABC', 'email': 'abc@gmail.com', 'contact': 8888888888, 'dob': '12-12-2017'}\n",
      "ABC\n",
      "abc@gmail.com\n",
      "8888888888\n",
      "12-12-2017\n"
     ]
    },
    {
     "ename": "TypeError",
     "evalue": "user_details() missing 2 required positional arguments: 'num1' and 'num2'",
     "output_type": "error",
     "traceback": [
      "\u001b[1;31m---------------------------------------------------------------------------\u001b[0m",
      "\u001b[1;31mTypeError\u001b[0m                                 Traceback (most recent call last)",
      "\u001b[1;32m<ipython-input-36-39e508730d16>\u001b[0m in \u001b[0;36m<module>\u001b[1;34m()\u001b[0m\n\u001b[0;32m     13\u001b[0m \u001b[1;33m\u001b[0m\u001b[0m\n\u001b[0;32m     14\u001b[0m \u001b[0muser_details\u001b[0m\u001b[1;33m(\u001b[0m\u001b[1;36m10\u001b[0m\u001b[1;33m,\u001b[0m\u001b[1;36m20\u001b[0m\u001b[1;33m,\u001b[0m\u001b[1;36m30\u001b[0m\u001b[1;33m,\u001b[0m\u001b[1;36m40\u001b[0m\u001b[1;33m,\u001b[0m\u001b[1;36m50\u001b[0m\u001b[1;33m,\u001b[0m\u001b[1;36m60\u001b[0m\u001b[1;33m,\u001b[0m\u001b[0mname\u001b[0m \u001b[1;33m=\u001b[0m \u001b[1;34m\"ABC\"\u001b[0m\u001b[1;33m,\u001b[0m\u001b[0memail\u001b[0m \u001b[1;33m=\u001b[0m \u001b[1;34m\"abc@gmail.com\"\u001b[0m\u001b[1;33m,\u001b[0m\u001b[0mcontact\u001b[0m \u001b[1;33m=\u001b[0m \u001b[1;36m8888888888\u001b[0m \u001b[1;33m,\u001b[0m \u001b[0mdob\u001b[0m \u001b[1;33m=\u001b[0m \u001b[1;34m\"12-12-2017\"\u001b[0m\u001b[1;33m)\u001b[0m\u001b[1;33m\u001b[0m\u001b[0m\n\u001b[1;32m---> 15\u001b[1;33m \u001b[0muser_details\u001b[0m\u001b[1;33m(\u001b[0m\u001b[0mname\u001b[0m \u001b[1;33m=\u001b[0m \u001b[1;34m\"ABC\"\u001b[0m\u001b[1;33m,\u001b[0m\u001b[0memail\u001b[0m \u001b[1;33m=\u001b[0m \u001b[1;34m\"abc@gmail.com\"\u001b[0m\u001b[1;33m,\u001b[0m\u001b[0mdob\u001b[0m \u001b[1;33m=\u001b[0m \u001b[1;34m\"12-12-2017\"\u001b[0m\u001b[1;33m)\u001b[0m\u001b[1;33m\u001b[0m\u001b[0m\n\u001b[0m\u001b[0;32m     16\u001b[0m \u001b[0muser_details\u001b[0m\u001b[1;33m(\u001b[0m\u001b[0mname\u001b[0m \u001b[1;33m=\u001b[0m \u001b[1;34m\"ABC\"\u001b[0m\u001b[1;33m,\u001b[0m\u001b[0mcontact\u001b[0m \u001b[1;33m=\u001b[0m \u001b[1;36m8888888888\u001b[0m \u001b[1;33m,\u001b[0m \u001b[0mdob\u001b[0m \u001b[1;33m=\u001b[0m \u001b[1;34m\"12-12-2017\"\u001b[0m\u001b[1;33m)\u001b[0m\u001b[1;33m\u001b[0m\u001b[0m\n",
      "\u001b[1;31mTypeError\u001b[0m: user_details() missing 2 required positional arguments: 'num1' and 'num2'"
     ]
    }
   ],
   "source": [
    "def user_details(num1,num2,*args, **kwargs):\n",
    "    print(args)\n",
    "    print(kwargs)\n",
    "    print(kwargs.get(\"name\"))\n",
    "    print(kwargs.get('email'))\n",
    "    print(kwargs.get('contact'))\n",
    "    print(kwargs.get('dob'))\n",
    "\n",
    "# name \n",
    "# email\n",
    "# contact \n",
    "# dob\n",
    "\n",
    "user_details(10,20,30,40,50,60,name = \"ABC\",email = \"abc@gmail.com\",contact = 8888888888 , dob = \"12-12-2017\")\n",
    "user_details(name = \"ABC\",email = \"abc@gmail.com\",dob = \"12-12-2017\")\n",
    "user_details(name = \"ABC\",contact = 8888888888 , dob = \"12-12-2017\")\n",
    "\n"
   ]
  },
  {
   "cell_type": "code",
   "execution_count": 41,
   "metadata": {},
   "outputs": [
    {
     "name": "stdout",
     "output_type": "stream",
     "text": [
      "10 20 30\n",
      "10 20 30\n"
     ]
    }
   ],
   "source": [
    "def add(num1,num2,num3):\n",
    "    print(num1,num2,num3)\n",
    "    \n",
    "l = [10,20,30]\n",
    "add(*l)\n",
    "\n",
    "d ={\"num1\":10,\"num3\":30,\"num2\":20}\n",
    "add(**d)"
   ]
  },
  {
   "cell_type": "code",
   "execution_count": null,
   "metadata": {},
   "outputs": [],
   "source": [
    "def func_name(args):\n",
    "    statemnts \n",
    "    \n",
    "func_name(args)\n",
    "\n",
    "Parametr passing techniques :\n",
    "    1 Positional =>  \n",
    "    2 Default \n",
    "    3 Variable length positional => *args => tuple  \n",
    "    4 Keyword  \n",
    "    5 Variable length keyword => **kwargs => dict  \n",
    "    6 Unpacking  *l **d"
   ]
  },
  {
   "cell_type": "code",
   "execution_count": null,
   "metadata": {},
   "outputs": [],
   "source": [
    "Scope of a variable:\n",
    "    "
   ]
  },
  {
   "cell_type": "code",
   "execution_count": 1,
   "metadata": {},
   "outputs": [
    {
     "name": "stdout",
     "output_type": "stream",
     "text": [
      "100\n"
     ]
    },
    {
     "ename": "NameError",
     "evalue": "name 'num1' is not defined",
     "output_type": "error",
     "traceback": [
      "\u001b[1;31m---------------------------------------------------------------------------\u001b[0m",
      "\u001b[1;31mNameError\u001b[0m                                 Traceback (most recent call last)",
      "\u001b[1;32m<ipython-input-1-157984b54500>\u001b[0m in \u001b[0;36m<module>\u001b[1;34m()\u001b[0m\n\u001b[0;32m      4\u001b[0m \u001b[1;33m\u001b[0m\u001b[0m\n\u001b[0;32m      5\u001b[0m \u001b[0mprint_val\u001b[0m\u001b[1;33m(\u001b[0m\u001b[1;33m)\u001b[0m\u001b[1;33m\u001b[0m\u001b[0m\n\u001b[1;32m----> 6\u001b[1;33m \u001b[0mprint\u001b[0m\u001b[1;33m(\u001b[0m\u001b[0mnum1\u001b[0m\u001b[1;33m)\u001b[0m\u001b[1;33m\u001b[0m\u001b[0m\n\u001b[0m",
      "\u001b[1;31mNameError\u001b[0m: name 'num1' is not defined"
     ]
    }
   ],
   "source": [
    "def print_val():\n",
    "    num1 = 100\n",
    "    print(num1)\n",
    "    \n",
    "print_val()\n",
    "print(num1)"
   ]
  },
  {
   "cell_type": "code",
   "execution_count": 6,
   "metadata": {},
   "outputs": [
    {
     "name": "stdout",
     "output_type": "stream",
     "text": [
      "Inside the function 100\n",
      "Value after modification 200\n",
      "After the function call 200\n"
     ]
    }
   ],
   "source": [
    "def print_val():\n",
    "    global num1\n",
    "    print(\"Inside the function\",num1)\n",
    "    num1 = 200 \n",
    "    print(\"Value after modification\",num1)\n",
    "    \n",
    "num1 = 100\n",
    "print_val()\n",
    "print(\"After the function call\",num1)"
   ]
  },
  {
   "cell_type": "code",
   "execution_count": null,
   "metadata": {},
   "outputs": [],
   "source": [
    "namespace :\n",
    "    .py \n",
    "    set of global variable\n",
    "    \n",
    "    set of local variables \n",
    "    \n",
    "    "
   ]
  },
  {
   "cell_type": "code",
   "execution_count": null,
   "metadata": {},
   "outputs": [],
   "source": [
    "Recursive function :  \n",
    "    "
   ]
  },
  {
   "cell_type": "code",
   "execution_count": null,
   "metadata": {},
   "outputs": [],
   "source": [
    "5! = 5 * 4!\n",
    "   5 * 4 * 3!\n",
    "    5 * 4 * 3 * 2!\n",
    "    5 * 4 * 3 * 2 * 1!\n",
    "    "
   ]
  },
  {
   "cell_type": "code",
   "execution_count": null,
   "metadata": {},
   "outputs": [],
   "source": [
    "5! = 5 * 24 = 120\n",
    "             4 * 6 = 24 \n",
    "                3 * 2 = 6\n",
    "                        2 * 1= 2 \n",
    "                                1  "
   ]
  },
  {
   "cell_type": "code",
   "execution_count": 7,
   "metadata": {},
   "outputs": [
    {
     "name": "stdout",
     "output_type": "stream",
     "text": [
      "120\n"
     ]
    }
   ],
   "source": [
    "def fact(num):\n",
    "    if num == 1:\n",
    "        return 1\n",
    "    else:\n",
    "        return num * fact(num - 1)\n",
    "\n",
    "\n",
    "print(fact(5))"
   ]
  },
  {
   "cell_type": "code",
   "execution_count": null,
   "metadata": {},
   "outputs": [],
   "source": [
    "fact(5) =>return 5 * fact(4)=> 5 *24 =>120\n",
    "              return 4 * fact(3)= 4*6=24\n",
    "                 return 3 * fact(2)=> 3 *2 =6\n",
    "                     return 2 * fact(1) = 2* 1=2\n",
    "                         return 1"
   ]
  },
  {
   "cell_type": "code",
   "execution_count": 16,
   "metadata": {},
   "outputs": [
    {
     "name": "stdout",
     "output_type": "stream",
     "text": [
      "True\n"
     ]
    }
   ],
   "source": [
    "def binary_search(l,key):\n",
    "    if len(l) == 0:\n",
    "        return False\n",
    "    else:        \n",
    "        mid = len(l) // 2     \n",
    "        if key == l[mid]:\n",
    "            return True\n",
    "        elif key < l[mid]:\n",
    "            return binary_search(l[:mid],key)\n",
    "        else:\n",
    "            return binary_search(l[mid+1:],key)\n",
    "\n",
    "l = [15,25,45,50,56,70,80,90]\n",
    "key = 15\n",
    "result = binary_search(l,key)\n",
    "print(result)"
   ]
  },
  {
   "cell_type": "code",
   "execution_count": null,
   "metadata": {},
   "outputs": [],
   "source": [
    "bs(l,80)\n",
    "   bs([70,80,90],80) => True\n",
    "     return True"
   ]
  },
  {
   "cell_type": "code",
   "execution_count": null,
   "metadata": {},
   "outputs": [],
   "source": [
    "Binary Search : \n",
    "    1 List should be sorted \n",
    "    2 Calculate mid = len(l) / 2 = 4 index\n",
    "    3 check if key == mid return True:\n",
    "               70 == 56\n",
    "            if not check , if key < mid\n",
    "               [15,25,45,50] , 70\n",
    "            \n",
    "            if key > mid:\n",
    "                [70,80,90] 70\n",
    "                 \n",
    "                      mid = 80\n",
    "                      1 if key == mid \n",
    "                      2 if key < mid \n",
    "                           [70]  70\n",
    "                            mid = 70 key = 70\n",
    "                            if key == mid return True\n",
    "                         \n",
    "                      3 if key > mid"
   ]
  }
 ],
 "metadata": {
  "kernelspec": {
   "display_name": "Python 3",
   "language": "python",
   "name": "python3"
  },
  "language_info": {
   "codemirror_mode": {
    "name": "ipython",
    "version": 3
   },
   "file_extension": ".py",
   "mimetype": "text/x-python",
   "name": "python",
   "nbconvert_exporter": "python",
   "pygments_lexer": "ipython3",
   "version": "3.6.5"
  }
 },
 "nbformat": 4,
 "nbformat_minor": 2
}
