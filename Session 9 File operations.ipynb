{
 "cells": [
  {
   "cell_type": "code",
   "execution_count": null,
   "metadata": {},
   "outputs": [],
   "source": [
    "Different modes of opening a file :\n",
    "    1 r : read r+\n",
    "    2 w : write w+\n",
    "    3 a : append a+"
   ]
  },
  {
   "cell_type": "code",
   "execution_count": 1,
   "metadata": {},
   "outputs": [],
   "source": [
    "fp = open(\"test1.txt\",\"r\")\n",
    "fp.close()"
   ]
  },
  {
   "cell_type": "code",
   "execution_count": 3,
   "metadata": {},
   "outputs": [
    {
     "name": "stdout",
     "output_type": "stream",
     "text": [
      "Sample text line 1\n",
      "Sample text line 2\n",
      "Sample text line 3\n",
      "Sample text line 4\n",
      "Sample text line 5\n",
      "\n"
     ]
    }
   ],
   "source": [
    "fp = open(\"test1.txt\",\"r\")\n",
    "content = fp.read()\n",
    "print(content)\n",
    "\n",
    "content = fp.read()\n",
    "print(content)\n",
    "fp.close()"
   ]
  },
  {
   "cell_type": "code",
   "execution_count": 6,
   "metadata": {},
   "outputs": [
    {
     "name": "stdout",
     "output_type": "stream",
     "text": [
      "Sample text line 1\n",
      "Sample text line 2\n",
      "Sample \n",
      "text line 3\n",
      "Sample text line 4\n",
      "Sample text line 5\n",
      "\n"
     ]
    }
   ],
   "source": [
    "fp = open(\"test1.txt\",\"r\")\n",
    "content = fp.read(45)\n",
    "print(content)\n",
    "\n",
    "content = fp.read()\n",
    "print(content)\n",
    "\n",
    "fp.close()"
   ]
  },
  {
   "cell_type": "code",
   "execution_count": 14,
   "metadata": {},
   "outputs": [
    {
     "ename": "FileNotFoundError",
     "evalue": "[Errno 2] No such file or directory: 'test2.txt'",
     "output_type": "error",
     "traceback": [
      "\u001b[1;31m---------------------------------------------------------------------------\u001b[0m",
      "\u001b[1;31mFileNotFoundError\u001b[0m                         Traceback (most recent call last)",
      "\u001b[1;32m<ipython-input-14-99db0c1d1349>\u001b[0m in \u001b[0;36m<module>\u001b[1;34m()\u001b[0m\n\u001b[1;32m----> 1\u001b[1;33m \u001b[0mfp\u001b[0m \u001b[1;33m=\u001b[0m \u001b[0mopen\u001b[0m\u001b[1;33m(\u001b[0m\u001b[1;34m\"test2.txt\"\u001b[0m\u001b[1;33m,\u001b[0m\u001b[1;34m\"r\"\u001b[0m\u001b[1;33m)\u001b[0m\u001b[1;33m\u001b[0m\u001b[0m\n\u001b[0m\u001b[0;32m      2\u001b[0m \u001b[0mcontent\u001b[0m \u001b[1;33m=\u001b[0m \u001b[0mfp\u001b[0m\u001b[1;33m.\u001b[0m\u001b[0mreadline\u001b[0m\u001b[1;33m(\u001b[0m\u001b[1;33m)\u001b[0m\u001b[1;33m\u001b[0m\u001b[0m\n\u001b[0;32m      3\u001b[0m \u001b[0mprint\u001b[0m\u001b[1;33m(\u001b[0m\u001b[0mcontent\u001b[0m\u001b[1;33m)\u001b[0m\u001b[1;33m\u001b[0m\u001b[0m\n\u001b[0;32m      4\u001b[0m \u001b[1;33m\u001b[0m\u001b[0m\n\u001b[0;32m      5\u001b[0m \u001b[0mcontent\u001b[0m \u001b[1;33m=\u001b[0m \u001b[0mfp\u001b[0m\u001b[1;33m.\u001b[0m\u001b[0mreadline\u001b[0m\u001b[1;33m(\u001b[0m\u001b[1;33m)\u001b[0m\u001b[1;33m\u001b[0m\u001b[0m\n",
      "\u001b[1;31mFileNotFoundError\u001b[0m: [Errno 2] No such file or directory: 'test2.txt'"
     ]
    }
   ],
   "source": [
    "fp = open(\"test2.txt\",\"r\")\n",
    "content = fp.readline()\n",
    "print(content)\n",
    "\n",
    "content = fp.readline()\n",
    "print(content)\n",
    "\n",
    "\n",
    "fp.close()"
   ]
  },
  {
   "cell_type": "code",
   "execution_count": 13,
   "metadata": {},
   "outputs": [
    {
     "name": "stdout",
     "output_type": "stream",
     "text": [
      "['Sample text line 1\\n', 'Sample text line 2\\n', 'Sample text line 3\\n', 'Sample text line 4\\n', 'Sample text line 5']\n"
     ]
    }
   ],
   "source": [
    "fp = open(\"test1.txt\",\"r\")\n",
    "content = fp.readlines()\n",
    "print(content)\n",
    "\n",
    "fp.close()"
   ]
  },
  {
   "cell_type": "code",
   "execution_count": null,
   "metadata": {},
   "outputs": [],
   "source": [
    "read => str\n",
    "read(50) => str\n",
    "readline  => str \n",
    "readlines => list "
   ]
  },
  {
   "cell_type": "code",
   "execution_count": 23,
   "metadata": {},
   "outputs": [
    {
     "name": "stdout",
     "output_type": "stream",
     "text": [
      "0\n",
      "20\n",
      "0\n",
      "New line in the file\n"
     ]
    }
   ],
   "source": [
    "fp = open(\"test2.txt\",\"w+\")\n",
    "print(fp.tell())\n",
    "fp.write(\"New line in the file\")\n",
    "print(fp.tell())\n",
    "fp.seek(0,0)\n",
    "print(fp.tell())\n",
    "content = fp.read()\n",
    "print(content)\n",
    "fp.close()"
   ]
  },
  {
   "cell_type": "code",
   "execution_count": null,
   "metadata": {},
   "outputs": [],
   "source": [
    "tell => current file pointer position  \n",
    "seek => to move the file pointer\n",
    "seek(offset,position)\n",
    "\n",
    "0 start of the file \n",
    "1 current position\n",
    "2 end of the file \n",
    "\n",
    "seek(0,0) 0 char from start of the file \n",
    "seek(15,0)15 chr from start of the file \n",
    "seek(0,2) 0 from end of the file "
   ]
  },
  {
   "cell_type": "code",
   "execution_count": 26,
   "metadata": {},
   "outputs": [
    {
     "name": "stdout",
     "output_type": "stream",
     "text": [
      "Sample text line 1\n",
      "Sample text line 2\n",
      "Sample text line 3\n",
      "Sample text line 4\n",
      "Sample text line 5\n"
     ]
    }
   ],
   "source": [
    "fp = open(\"test1.txt\",\"r+\")\n",
    "content = fp.read()\n",
    "print(content)\n",
    "\n",
    "fp.write(\"\\nSample tect line 6\")\n",
    "fp.close()"
   ]
  },
  {
   "cell_type": "code",
   "execution_count": 29,
   "metadata": {},
   "outputs": [],
   "source": [
    "fp = open(\"test1.txt\",\"r+\")\n",
    "fp.seek(0,2)\n",
    "fp.write(\"\\n*********Sample text line 7\")\n",
    "fp.close()"
   ]
  },
  {
   "cell_type": "code",
   "execution_count": 33,
   "metadata": {},
   "outputs": [
    {
     "name": "stdout",
     "output_type": "stream",
     "text": [
      "100\n",
      "Sample text line 5\n",
      "Sample text line 6\n",
      "Sample text line 7\n",
      " Add this to th file\n",
      " Add this to th file\n",
      " Add this to th file\n"
     ]
    }
   ],
   "source": [
    "fp = open(\"test1.txt\",\"a+\")\n",
    "print(fp.tell())\n",
    "fp.write(\"\\n Add this to th file\")\n",
    "\n",
    "fp.seek(0)\n",
    "content = fp.read()\n",
    "print(content)\n",
    "fp.close()"
   ]
  },
  {
   "cell_type": "code",
   "execution_count": null,
   "metadata": {},
   "outputs": [],
   "source": [
    "r : fp position : start ,file does not exist :error , operations : read \n",
    "r+ :fp position : start , file not exist : error , operations : read + write \n",
    "w :fp position :  start , create new file , write  \n",
    "w+ : start , create new file , write + read \n",
    "a : end , craete new file , wrire at the end or append \n",
    "a+ : end , create new file , write at the end "
   ]
  }
 ],
 "metadata": {
  "kernelspec": {
   "display_name": "Python 3",
   "language": "python",
   "name": "python3"
  },
  "language_info": {
   "codemirror_mode": {
    "name": "ipython",
    "version": 3
   },
   "file_extension": ".py",
   "mimetype": "text/x-python",
   "name": "python",
   "nbconvert_exporter": "python",
   "pygments_lexer": "ipython3",
   "version": "3.6.5"
  }
 },
 "nbformat": 4,
 "nbformat_minor": 2
}
